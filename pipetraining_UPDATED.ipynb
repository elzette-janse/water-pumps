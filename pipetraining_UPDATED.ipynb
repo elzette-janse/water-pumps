{
 "cells": [
  {
   "cell_type": "code",
   "execution_count": 86,
   "metadata": {},
   "outputs": [
    {
     "data": {
      "application/javascript": [
       "IPython.OutputArea.prototype._should_scroll = function(lines) {\n",
       "    return false;\n",
       "}"
      ],
      "text/plain": [
       "<IPython.core.display.Javascript object>"
      ]
     },
     "metadata": {},
     "output_type": "display_data"
    }
   ],
   "source": [
    "%%javascript\n",
    "IPython.OutputArea.prototype._should_scroll = function(lines) {\n",
    "    return false;\n",
    "}"
   ]
  },
  {
   "cell_type": "code",
   "execution_count": 87,
   "metadata": {
    "collapsed": true
   },
   "outputs": [],
   "source": [
    "#!pip install xgboost"
   ]
  },
  {
   "cell_type": "code",
   "execution_count": 88,
   "metadata": {
    "collapsed": true
   },
   "outputs": [],
   "source": [
    "import warnings\n",
    "warnings.filterwarnings('ignore')\n",
    "import re\n",
    "import numpy as np\n",
    "import matplotlib.pyplot as plt\n",
    "import pandas as pd\n",
    "from pandas.api.types import is_string_dtype, is_numeric_dtype\n",
    "\n",
    "from sklearn.model_selection import train_test_split, cross_val_score, GridSearchCV\n",
    "from sklearn.tree import DecisionTreeClassifier\n",
    "from sklearn.ensemble import RandomForestClassifier, ExtraTreesClassifier\n",
    "from sklearn.svm import SVC\n",
    "from sklearn.linear_model import LogisticRegression\n",
    "from sklearn.linear_model import SGDClassifier\n",
    "from sklearn.neighbors import KNeighborsClassifier\n",
    "from sklearn.naive_bayes import GaussianNB\n",
    "from sklearn.neural_network import MLPClassifier\n",
    "from sklearn.metrics import accuracy_score, confusion_matrix\n",
    "from sklearn.decomposition import PCA\n",
    "from sklearn.preprocessing import StandardScaler\n",
    "\n",
    "from xgboost import XGBClassifier\n",
    "from copy import deepcopy\n"
   ]
  },
  {
   "cell_type": "code",
   "execution_count": 89,
   "metadata": {
    "collapsed": true
   },
   "outputs": [],
   "source": [
    "x_train = pd.read_csv('https://raw.githubusercontent.com/jjbl99/waterpump/master/xtrain_clean.csv')\n",
    "y_train = pd.read_csv('https://raw.githubusercontent.com/jjbl99/waterpump/master/Pump_it_Up_Data_Mining_the_Water_Table_-_Training_set_labels.csv')\n",
    "x_test = pd.read_csv('https://raw.githubusercontent.com/jjbl99/waterpump/master/xtest_clean.csv')"
   ]
  },
  {
   "cell_type": "code",
   "execution_count": null,
   "metadata": {
    "collapsed": true
   },
   "outputs": [],
   "source": [
    "x_test_id = x_test['id']\n",
    "x_test = x_test.drop('id', axis = 1, inplace = True)"
   ]
  },
  {
   "cell_type": "code",
   "execution_count": 93,
   "metadata": {},
   "outputs": [],
   "source": [
    "y_train.columns\n",
    "y_num = y_train.replace(['functional','non functional', 'functional needs repair'], [0,1,2])"
   ]
  },
  {
   "cell_type": "code",
   "execution_count": 71,
   "metadata": {
    "collapsed": true
   },
   "outputs": [],
   "source": [
    "# Turn all data types into categorical data types\n",
    "def train_cats(df):\n",
    "    for n,c in df.items():\n",
    "        if is_string_dtype(c): \n",
    "            df[n] = pd.factorize(df[n])[0]\n",
    "    return df"
   ]
  },
  {
   "cell_type": "code",
   "execution_count": 72,
   "metadata": {},
   "outputs": [],
   "source": [
    "xcat_mean = deepcopy(x_train)\n",
    "xtest_mean = deepcopy(x_test)\n",
    "\n",
    "xcat_mean['target'] = deepcopy(y_num)['status_group']\n",
    "for n,c in x_train.items():\n",
    "        if is_string_dtype(c): \n",
    "            xcat_mean[n] = xcat_mean[n].map(xcat_mean.groupby(c)['target'].mean())\n",
    "            xtest_mean[n] = xtest_mean[n].map(xcat_mean.groupby(c)['target'].mean()) \n",
    "            #DID IT WORK FOR TEST? How to stock the value?\n",
    "\n",
    "xcat_mean = xcat_mean.drop('target', axis=1)\n",
    "#display(xcat_mean.head(), xtest_mean.head())"
   ]
  },
  {
   "cell_type": "code",
   "execution_count": 84,
   "metadata": {},
   "outputs": [],
   "source": [
    "x_train = train_cats(x_train)\n",
    "x_test = train_cats(x_test)"
   ]
  },
  {
   "cell_type": "code",
   "execution_count": 74,
   "metadata": {
    "collapsed": true
   },
   "outputs": [],
   "source": [
    "#y_num = y_train.replace(['functional','non functional', 'functional needs repair'], [0,1,2]) # replace labels by numerical values"
   ]
  },
  {
   "cell_type": "code",
   "execution_count": 75,
   "metadata": {},
   "outputs": [],
   "source": [
    "x_train.drop('id', axis = 1, inplace = True)\n",
    "y_train.drop('id', axis = 1, inplace = True)"
   ]
  },
  {
   "cell_type": "code",
   "execution_count": 76,
   "metadata": {},
   "outputs": [],
   "source": [
    "#xtrain.head()"
   ]
  },
  {
   "cell_type": "markdown",
   "metadata": {},
   "source": [
    "# Feature Selection"
   ]
  },
  {
   "cell_type": "code",
   "execution_count": 77,
   "metadata": {
    "collapsed": true
   },
   "outputs": [],
   "source": [
    "#I ran the feature selection apriori since it's easier to remove things from a panda array than a np matrix \n",
    "\n",
    "#x_train.drop(['year_recorded','source_class','date_recordedMonth','public_meeting','basin','payment_type','water_quality'], axis = 1, inplace = True)\n",
    "#x_test.drop(['year_recorded','source_class','date_recordedMonth','public_meeting','basin','payment_type','water_quality'], axis = 1, inplace = True)"
   ]
  },
  {
   "cell_type": "code",
   "execution_count": 78,
   "metadata": {
    "collapsed": true
   },
   "outputs": [],
   "source": [
    "xtrain, xvalid, ytrain, yvalid = train_test_split(x_train, y_num, test_size=0.2)\n",
    "ytrain.drop('id', axis = 1, inplace = True)\n",
    "yvalid.drop('id', axis = 1, inplace = True)\n",
    "xtrain.drop('Unnamed: 0', axis = 1, inplace = True)\n",
    "xvalid.drop('Unnamed: 0', axis = 1, inplace = True)\n",
    "scaler = StandardScaler()\n",
    "feature_list = xtrain.columns\n",
    "\n",
    "xtrain_FS = xtrain\n",
    "xvalid_FS = xvalid\n",
    "\n",
    "xtrain_PCA = xtrain\n",
    "xvalid_PCA = xvalid\n",
    "\n",
    "# Fit on training set only.\n",
    "scaler.fit(xtrain)\n",
    "\n",
    "# Apply transform to both the training set and the test set.\n",
    "xtrain = scaler.transform(xtrain)\n",
    "xvalid = scaler.transform(xvalid)\n"
   ]
  },
  {
   "cell_type": "code",
   "execution_count": 79,
   "metadata": {},
   "outputs": [
    {
     "name": "stdout",
     "output_type": "stream",
     "text": [
      "Training accuracy:  0.982765151515\n",
      "Validation accuracy:  0.792003367003\n"
     ]
    },
    {
     "data": {
      "image/png": "[encoded data removed]",
      "text/plain": [
       "<matplotlib.figure.Figure at 0x10e73c358>"
      ]
     },
     "metadata": {},
     "output_type": "display_data"
    }
   ],
   "source": [
    "rf = RandomForestClassifier(max_depth=100).fit(xtrain,ytrain)\n",
    "pred2 = rf.predict(xvalid)\n",
    "\n",
    "print('Training accuracy: ', accuracy_score(ytrain, rf.predict(xtrain)))\n",
    "print('Validation accuracy: ', accuracy_score(yvalid, pred2))\n",
    "# Get numerical feature importances\n",
    "importances = list(rf.feature_importances_)\n",
    "\n",
    "# List of tuples with variable and importance\n",
    "feature_importances = [(feature, round(importance, 2)) for feature, importance in zip(feature_list, importances)]\n",
    "\n",
    "# Sort the feature importances by most important first\n",
    "feature_importances = sorted(feature_importances, key = lambda x: x[1], reverse = True)\n",
    "\n",
    "# list of x locations for plotting\n",
    "x_values = list(range(len(importances)))\n",
    "\n",
    "# List of features sorted from most to least important\n",
    "sorted_importances = [importance[1] for importance in feature_importances]\n",
    "sorted_features = [importance[0] for importance in feature_importances]\n",
    "\n",
    "# Cumulative importances\n",
    "cumulative_importances = np.cumsum(sorted_importances)\n",
    "\n",
    "# Make a line graph\n",
    "plt.figure(figsize=(21,14))\n",
    "plt.plot(x_values, cumulative_importances, 'g-')\n",
    "\n",
    "# Draw line at 95% of importance retained\n",
    "plt.hlines(y = 0.95, xmin=0, xmax=len(sorted_importances), color = 'r', linestyles = 'dashed')\n",
    "\n",
    "# Format x ticks and labels\n",
    "plt.xticks(x_values, sorted_features, rotation = 'vertical')\n",
    "\n",
    "# Axis labels and title\n",
    "plt.xlabel('Variable'); plt.ylabel('Cumulative Importance'); plt.title('Cumulative Importances');\n",
    "\n",
    "plt.show()\n",
    "\n",
    "#this plot is no longer relevant since its using already reduced features"
   ]
  },
  {
   "cell_type": "code",
   "execution_count": 80,
   "metadata": {
    "collapsed": true
   },
   "outputs": [],
   "source": [
    "xvalid_FS.drop(['date_recordedMonth','public_meeting','water_quality','quality_group','source_class','year_recorded','num_private'], axis = 1, inplace = True)\n",
    "xtrain_FS.drop(['year_recorded','source_class','date_recordedMonth','public_meeting','water_quality','quality_group','num_private'], axis = 1, inplace = True)"
   ]
  },
  {
   "cell_type": "markdown",
   "metadata": {},
   "source": [
    "# PCA"
   ]
  },
  {
   "cell_type": "code",
   "execution_count": 155,
   "metadata": {},
   "outputs": [
    {
     "data": {
      "image/png": "[encoded data removed]",
      "text/plain": [
       "<matplotlib.figure.Figure at 0x11641b0b8>"
      ]
     },
     "metadata": {},
     "output_type": "display_data"
    }
   ],
   "source": [
    "scaler = StandardScaler()\n",
    "\n",
    "# Fit on training set only.\n",
    "scaler.fit(xtrain)\n",
    "\n",
    "# Apply transform to both the training set and the test set.\n",
    "#xtrain = scaler.transform(xtrain)\n",
    "#xvalid = scaler.transform(xvalid)\n",
    "\n",
    "#Fitting the PCA algorithm with our Data\n",
    "pca1 = PCA().fit(xtrain)\n",
    "\n",
    "#Plotting the Cumulative Summation of the Explained Variance\n",
    "plt.figure()\n",
    "plt.plot(np.cumsum(pca1.explained_variance_ratio_))\n",
    "plt.hlines(y = 0.95, xmin=0, xmax= 25,color = 'r', linestyles = 'dashed')\n",
    "\n",
    "plt.xlabel('Number of Components')\n",
    "plt.ylabel('Variance (%)') #for each component\n",
    "plt.title('Pulsar Dataset Explained Variance')\n",
    "plt.show()"
   ]
  },
  {
   "cell_type": "code",
   "execution_count": 156,
   "metadata": {},
   "outputs": [
    {
     "name": "stdout",
     "output_type": "stream",
     "text": [
      "[ 0.15661033  0.10171181  0.08757045  0.08289238  0.07425123  0.06577702\n",
      "  0.0596076   0.05682949  0.03931604  0.03870255  0.03653333  0.03449985\n",
      "  0.03146241  0.02747456  0.02727166]\n"
     ]
    }
   ],
   "source": [
    "#fit model with optimal components (90% variance kept)\n",
    "pca = PCA(n_components= 15)\n",
    "pca.fit(xtrain) \n",
    "\n",
    "PCA(copy=True, iterated_power='auto', n_components=10, random_state=None,\n",
    "  svd_solver='auto', tol=0.0, whiten=False)\n",
    "print(pca.explained_variance_ratio_)  \n",
    "\n",
    "xvalid_PCA = pca.transform(xvalid)\n",
    "xtrain_PCA = pca.transform(xtrain)\n",
    "#x_test_PCA = pca.transform(x_test)"
   ]
  },
  {
   "cell_type": "markdown",
   "metadata": {},
   "source": [
    "# Decision Tree Classifier"
   ]
  },
  {
   "cell_type": "code",
   "execution_count": 17,
   "metadata": {
    "collapsed": true
   },
   "outputs": [],
   "source": [
    "#with PCA\n",
    "dtc_PCA = DecisionTreeClassifier(max_depth=5).fit(xtrain_PCA, ytrain)\n",
    "pred1_PCA = dtc_PCA.predict(xvalid_PCA)"
   ]
  },
  {
   "cell_type": "code",
   "execution_count": 18,
   "metadata": {},
   "outputs": [
    {
     "name": "stdout",
     "output_type": "stream",
     "text": [
      "Training accuracy:  0.681102693603\n",
      "Validation accuracy:  0.671885521886\n"
     ]
    }
   ],
   "source": [
    "print('Training accuracy: ', accuracy_score(ytrain, dtc_PCA.predict(xtrain_PCA)))\n",
    "print('Validation accuracy: ', accuracy_score(yvalid, pred1_PCA))"
   ]
  },
  {
   "cell_type": "code",
   "execution_count": 19,
   "metadata": {
    "collapsed": true
   },
   "outputs": [],
   "source": [
    "#with FS\n",
    "dtc_FS = DecisionTreeClassifier(max_depth=5).fit(xtrain_FS, ytrain)\n",
    "pred1_FS = dtc_FS.predict(xvalid_FS)"
   ]
  },
  {
   "cell_type": "code",
   "execution_count": 20,
   "metadata": {},
   "outputs": [
    {
     "name": "stdout",
     "output_type": "stream",
     "text": [
      "Training accuracy:  0.711195286195\n",
      "Validation accuracy:  0.700252525253\n"
     ]
    }
   ],
   "source": [
    "print('Training accuracy: ', accuracy_score(ytrain, dtc_FS.predict(xtrain_FS)))\n",
    "print('Validation accuracy: ', accuracy_score(yvalid, pred1_FS))"
   ]
  },
  {
   "cell_type": "markdown",
   "metadata": {},
   "source": [
    "# Random Forest Classifier"
   ]
  },
  {
   "cell_type": "code",
   "execution_count": 21,
   "metadata": {
    "collapsed": true
   },
   "outputs": [],
   "source": [
    "rf_PCA = RandomForestClassifier(max_depth=100).fit(xtrain_PCA,ytrain)\n",
    "pred2_PCA = rf_PCA.predict(xvalid_PCA)"
   ]
  },
  {
   "cell_type": "code",
   "execution_count": 22,
   "metadata": {},
   "outputs": [
    {
     "name": "stdout",
     "output_type": "stream",
     "text": [
      "Training accuracy:  0.981334175084\n",
      "Validation accuracy:  0.757070707071\n"
     ]
    }
   ],
   "source": [
    "print('Training accuracy: ', accuracy_score(ytrain, rf_PCA.predict(xtrain_PCA)))\n",
    "print('Validation accuracy: ', accuracy_score(yvalid, pred2_PCA))"
   ]
  },
  {
   "cell_type": "code",
   "execution_count": 23,
   "metadata": {},
   "outputs": [
    {
     "name": "stdout",
     "output_type": "stream",
     "text": [
      "Training accuracy:  0.981755050505\n",
      "Validation accuracy:  0.784764309764\n"
     ]
    }
   ],
   "source": [
    "rf_FS = RandomForestClassifier(max_depth=100).fit(xtrain_FS,ytrain)\n",
    "pred2_FS = rf_FS.predict(xvalid_FS)\n",
    "\n",
    "print('Training accuracy: ', accuracy_score(ytrain, rf_FS.predict(xtrain_FS)))\n",
    "print('Validation accuracy: ', accuracy_score(yvalid, pred2_FS))"
   ]
  },
  {
   "cell_type": "markdown",
   "metadata": {},
   "source": []
  },
  {
   "cell_type": "markdown",
   "metadata": {},
   "source": [
    "# Support Vector Machine"
   ]
  },
  {
   "cell_type": "code",
   "execution_count": 24,
   "metadata": {
    "collapsed": true
   },
   "outputs": [],
   "source": [
    "svm = SVC().fit(xtrain_PCA,ytrain)\n",
    "pred3 = svm.predict(xvalid_PCA)"
   ]
  },
  {
   "cell_type": "code",
   "execution_count": 26,
   "metadata": {},
   "outputs": [
    {
     "name": "stdout",
     "output_type": "stream",
     "text": [
      "Training accuracy:  0.759301346801\n",
      "Validation accuracy:  0.73367003367\n"
     ]
    }
   ],
   "source": [
    "print('Training accuracy: ', accuracy_score(ytrain, svm.predict(xtrain_PCA)))\n",
    "print('Validation accuracy: ', accuracy_score(yvalid, pred3))"
   ]
  },
  {
   "cell_type": "code",
   "execution_count": 27,
   "metadata": {
    "collapsed": true
   },
   "outputs": [],
   "source": [
    "svm = SVC().fit(xtrain_FS,ytrain)\n",
    "pred3 = svm.predict(xvalid_FS)"
   ]
  },
  {
   "cell_type": "code",
   "execution_count": 29,
   "metadata": {},
   "outputs": [
    {
     "name": "stdout",
     "output_type": "stream",
     "text": [
      "Training accuracy:  0.918434343434\n",
      "Validation accuracy:  0.676515151515\n"
     ]
    }
   ],
   "source": [
    "print('Training accuracy: ', accuracy_score(ytrain, svm.predict(xtrain_FS)))\n",
    "print('Validation accuracy: ', accuracy_score(yvalid, pred3))"
   ]
  },
  {
   "cell_type": "markdown",
   "metadata": {},
   "source": [
    "# SGD"
   ]
  },
  {
   "cell_type": "code",
   "execution_count": 34,
   "metadata": {
    "collapsed": true
   },
   "outputs": [],
   "source": [
    "xtrain, xvalid = xtrain_FS, xvalid_FS"
   ]
  },
  {
   "cell_type": "code",
   "execution_count": 35,
   "metadata": {
    "collapsed": true
   },
   "outputs": [],
   "source": [
    "sgd = SGDClassifier(loss=\"hinge\", penalty=\"l2\").fit(xtrain,ytrain)\n",
    "pred4 = sgd.predict(xvalid)"
   ]
  },
  {
   "cell_type": "code",
   "execution_count": 36,
   "metadata": {},
   "outputs": [
    {
     "name": "stdout",
     "output_type": "stream",
     "text": [
      "Training accuracy:  0.572306397306\n",
      "Validation accuracy:  0.567255892256\n"
     ]
    }
   ],
   "source": [
    "print('Training accuracy: ', accuracy_score(ytrain, sgd.predict(xtrain)))\n",
    "print('Validation accuracy: ', accuracy_score(yvalid, pred4))"
   ]
  },
  {
   "cell_type": "code",
   "execution_count": 37,
   "metadata": {
    "collapsed": true
   },
   "outputs": [],
   "source": [
    "xtrain, xvalid = xtrain_PCA, xvalid_PCA"
   ]
  },
  {
   "cell_type": "code",
   "execution_count": 38,
   "metadata": {
    "collapsed": true
   },
   "outputs": [],
   "source": [
    "sgd = SGDClassifier(loss=\"hinge\", penalty=\"l2\").fit(xtrain,ytrain)\n",
    "pred4 = sgd.predict(xvalid)"
   ]
  },
  {
   "cell_type": "code",
   "execution_count": 39,
   "metadata": {},
   "outputs": [
    {
     "name": "stdout",
     "output_type": "stream",
     "text": [
      "Training accuracy:  0.60281986532\n",
      "Validation accuracy:  0.598400673401\n"
     ]
    }
   ],
   "source": [
    "print('Training accuracy: ', accuracy_score(ytrain, sgd.predict(xtrain)))\n",
    "print('Validation accuracy: ', accuracy_score(yvalid, pred4))"
   ]
  },
  {
   "cell_type": "markdown",
   "metadata": {},
   "source": [
    "# KNN"
   ]
  },
  {
   "cell_type": "code",
   "execution_count": 40,
   "metadata": {
    "collapsed": true
   },
   "outputs": [],
   "source": [
    "xtrain, xvalid = xtrain_FS, xvalid_FS"
   ]
  },
  {
   "cell_type": "code",
   "execution_count": 41,
   "metadata": {
    "collapsed": true
   },
   "outputs": [],
   "source": [
    "knn = KNeighborsClassifier(n_neighbors=7).fit(xtrain,ytrain)\n",
    "pred5 = knn.predict(xvalid)"
   ]
  },
  {
   "cell_type": "code",
   "execution_count": 42,
   "metadata": {},
   "outputs": [
    {
     "name": "stdout",
     "output_type": "stream",
     "text": [
      "Training accuracy:  0.752272727273\n",
      "Validation accuracy:  0.67803030303\n"
     ]
    }
   ],
   "source": [
    "print('Training accuracy: ', accuracy_score(ytrain, knn.predict(xtrain)))\n",
    "print('Validation accuracy: ', accuracy_score(yvalid, pred5))"
   ]
  },
  {
   "cell_type": "code",
   "execution_count": 43,
   "metadata": {
    "collapsed": true
   },
   "outputs": [],
   "source": [
    "xtrain, xvalid = xtrain_PCA, xvalid_PCA"
   ]
  },
  {
   "cell_type": "code",
   "execution_count": 44,
   "metadata": {
    "collapsed": true
   },
   "outputs": [],
   "source": [
    "knn = KNeighborsClassifier(n_neighbors=7).fit(xtrain,ytrain)\n",
    "pred5 = knn.predict(xvalid)"
   ]
  },
  {
   "cell_type": "code",
   "execution_count": 45,
   "metadata": {},
   "outputs": [
    {
     "name": "stdout",
     "output_type": "stream",
     "text": [
      "Training accuracy:  0.811868686869\n",
      "Validation accuracy:  0.754966329966\n"
     ]
    }
   ],
   "source": [
    "print('Training accuracy: ', accuracy_score(ytrain, knn.predict(xtrain)))\n",
    "print('Validation accuracy: ', accuracy_score(yvalid, pred5))"
   ]
  },
  {
   "cell_type": "markdown",
   "metadata": {},
   "source": [
    "# Naive Bayes"
   ]
  },
  {
   "cell_type": "code",
   "execution_count": 46,
   "metadata": {
    "collapsed": true
   },
   "outputs": [],
   "source": [
    "xtrain, xvalid = xtrain_FS, xvalid_FS"
   ]
  },
  {
   "cell_type": "code",
   "execution_count": 47,
   "metadata": {
    "collapsed": true
   },
   "outputs": [],
   "source": [
    "gnb = GaussianNB().fit(xtrain,ytrain)\n",
    "pred6 = gnb.predict(xvalid)"
   ]
  },
  {
   "cell_type": "code",
   "execution_count": 48,
   "metadata": {},
   "outputs": [
    {
     "name": "stdout",
     "output_type": "stream",
     "text": [
      "Training accuracy:  0.610353535354\n",
      "Validation accuracy:  0.610858585859\n"
     ]
    }
   ],
   "source": [
    "print('Training accuracy: ', accuracy_score(ytrain, gnb.predict(xtrain)))\n",
    "print('Validation accuracy: ', accuracy_score(yvalid, pred6))"
   ]
  },
  {
   "cell_type": "code",
   "execution_count": 49,
   "metadata": {
    "collapsed": true
   },
   "outputs": [],
   "source": [
    "xtrain, xvalid = xtrain_PCA, xvalid_PCA"
   ]
  },
  {
   "cell_type": "code",
   "execution_count": 50,
   "metadata": {
    "collapsed": true
   },
   "outputs": [],
   "source": [
    "gnb = GaussianNB().fit(xtrain,ytrain)\n",
    "pred6 = gnb.predict(xvalid)"
   ]
  },
  {
   "cell_type": "code",
   "execution_count": 51,
   "metadata": {},
   "outputs": [
    {
     "name": "stdout",
     "output_type": "stream",
     "text": [
      "Training accuracy:  0.623800505051\n",
      "Validation accuracy:  0.61835016835\n"
     ]
    }
   ],
   "source": [
    "print('Training accuracy: ', accuracy_score(ytrain, gnb.predict(xtrain)))\n",
    "print('Validation accuracy: ', accuracy_score(yvalid, pred6))"
   ]
  },
  {
   "cell_type": "markdown",
   "metadata": {},
   "source": [
    "# Neural Network"
   ]
  },
  {
   "cell_type": "code",
   "execution_count": 52,
   "metadata": {
    "collapsed": true
   },
   "outputs": [],
   "source": [
    "xtrain, xvalid = xtrain_FS, xvalid_FS"
   ]
  },
  {
   "cell_type": "code",
   "execution_count": 53,
   "metadata": {
    "collapsed": true
   },
   "outputs": [],
   "source": [
    "mlp = MLPClassifier().fit(xtrain,ytrain)\n",
    "pred7 = mlp.predict(xvalid)"
   ]
  },
  {
   "cell_type": "code",
   "execution_count": 54,
   "metadata": {
    "scrolled": true
   },
   "outputs": [
    {
     "name": "stdout",
     "output_type": "stream",
     "text": [
      "Training accuracy:  0.546506734007\n",
      "Validation accuracy:  0.540656565657\n"
     ]
    }
   ],
   "source": [
    "print('Training accuracy: ', accuracy_score(ytrain, mlp.predict(xtrain)))\n",
    "print('Validation accuracy: ', accuracy_score(yvalid, pred7))"
   ]
  },
  {
   "cell_type": "code",
   "execution_count": 55,
   "metadata": {
    "collapsed": true
   },
   "outputs": [],
   "source": [
    "xtrain, xvalid = xtrain_PCA, xvalid_PCA"
   ]
  },
  {
   "cell_type": "code",
   "execution_count": 56,
   "metadata": {
    "collapsed": true
   },
   "outputs": [],
   "source": [
    "mlp = MLPClassifier().fit(xtrain,ytrain)\n",
    "pred7 = mlp.predict(xvalid)"
   ]
  },
  {
   "cell_type": "code",
   "execution_count": 57,
   "metadata": {
    "scrolled": true
   },
   "outputs": [
    {
     "name": "stdout",
     "output_type": "stream",
     "text": [
      "Training accuracy:  0.761784511785\n",
      "Validation accuracy:  0.737121212121\n"
     ]
    }
   ],
   "source": [
    "print('Training accuracy: ', accuracy_score(ytrain, mlp.predict(xtrain)))\n",
    "print('Validation accuracy: ', accuracy_score(yvalid, pred7))"
   ]
  },
  {
   "cell_type": "markdown",
   "metadata": {},
   "source": [
    "# Optimizing the Random Forest"
   ]
  },
  {
   "cell_type": "code",
   "execution_count": null,
   "metadata": {
    "collapsed": true
   },
   "outputs": [],
   "source": [
    "param_grid = { \n",
    "    'n_estimators': [300, 500],\n",
    "    'max_features': ['auto', 'sqrt', 'log2'],\n",
    "    'max_depth' : [5,10,30,50],\n",
    "    'criterion' :['gini', 'entropy']\n",
    "}"
   ]
  },
  {
   "cell_type": "code",
   "execution_count": null,
   "metadata": {
    "collapsed": true
   },
   "outputs": [],
   "source": [
    "gridRF = GridSearchCV(estimator=RandomForestClassifier(), param_grid=param_grid, cv= 5)\n",
    "gridRF.fit(xtrain, ytrain)"
   ]
  },
  {
   "cell_type": "code",
   "execution_count": null,
   "metadata": {
    "collapsed": true
   },
   "outputs": [],
   "source": [
    "gridRF.best_params_"
   ]
  },
  {
   "cell_type": "code",
   "execution_count": null,
   "metadata": {
    "collapsed": true
   },
   "outputs": [],
   "source": [
    "rf1 = RandomForestClassifier(max_depth=30, criterion = 'gini', max_features='sqrt', n_estimators=500).fit(xtrain,ytrain)\n",
    "predrf1 = rf1.predict(xvalid)"
   ]
  },
  {
   "cell_type": "code",
   "execution_count": null,
   "metadata": {
    "collapsed": true
   },
   "outputs": [],
   "source": [
    "print('Training accuracy: ', accuracy_score(ytrain, rf1.predict(xtrain)))\n",
    "print('Validation accuracy: ', accuracy_score(yvalid, predrf1))"
   ]
  },
  {
   "cell_type": "code",
   "execution_count": null,
   "metadata": {
    "collapsed": true
   },
   "outputs": [],
   "source": [
    "rf2 = RandomForestClassifier(max_depth=30, criterion = 'gini', max_features='sqrt', n_estimators=700).fit(xtrain,ytrain)\n",
    "predrf2 = rf2.predict(xvalid)\n",
    "print('Training accuracy: ', accuracy_score(ytrain, rf2.predict(xtrain)))\n",
    "print('Validation accuracy: ', accuracy_score(yvalid, predrf2))\n"
   ]
  },
  {
   "cell_type": "code",
   "execution_count": null,
   "metadata": {
    "collapsed": true
   },
   "outputs": [],
   "source": [
    "rf3 = RandomForestClassifier(n_estimators=300, \n",
    "                                min_samples_split=8,\n",
    "                                max_features='sqrt',\n",
    "                                max_depth=95)\n",
    "rf3.fit(xtrain,ytrain)\n",
    "trainrf3 = rf3.predict(xtrain)\n",
    "predrf3 = rf3.predict(xvalid)\n",
    "print('Training accuracy: ', accuracy_score(ytrain, trainrf3))\n",
    "print('Validation accuracy: ', accuracy_score(yvalid, predrf3))"
   ]
  },
  {
   "cell_type": "markdown",
   "metadata": {},
   "source": [
    "# Extremely Randomized Trees"
   ]
  },
  {
   "cell_type": "code",
   "execution_count": 157,
   "metadata": {
    "collapsed": true
   },
   "outputs": [],
   "source": [
    "xtrain, xvalid = xtrain_FS, xvalid_FS\n",
    "etc = ExtraTreesClassifier(n_estimators=300, \n",
    "                                min_samples_split=8,\n",
    "                                max_features='sqrt',\n",
    "                                max_depth=95)\n",
    "etc.fit(xtrain,ytrain)\n",
    "predetc = etc.predict(xvalid)\n"
   ]
  },
  {
   "cell_type": "code",
   "execution_count": 158,
   "metadata": {},
   "outputs": [
    {
     "name": "stdout",
     "output_type": "stream",
     "text": [
      "Training accuracy:  1.0\n",
      "Validation accuracy:  1.0\n"
     ]
    }
   ],
   "source": [
    "print('Training accuracy: ', accuracy_score(ytrain, etc.predict(xtrain)))\n",
    "print('Validation accuracy: ', accuracy_score(yvalid, predetc))"
   ]
  },
  {
   "cell_type": "markdown",
   "metadata": {},
   "source": [
    "# XGBoost"
   ]
  },
  {
   "cell_type": "code",
   "execution_count": null,
   "metadata": {
    "collapsed": true
   },
   "outputs": [],
   "source": [
    "xtrain, xvalid = xtrain_PCA, xvalid_PCA\n",
    "#TODO perform grid search to find best hyperparameters (this has potential)\n",
    "xgb = XGBClassifier(max_depth=9, n_estimators=300,\n",
    "       objective='multi:softmax') #can also use softprob for multiclass\n",
    "xgb.fit(xtrain,ytrain)\n",
    "trainxgb = xgb.predict(xtrain)\n",
    "predxgb = xgb.predict(xvalid)"
   ]
  },
  {
   "cell_type": "code",
   "execution_count": null,
   "metadata": {
    "collapsed": true
   },
   "outputs": [],
   "source": [
    "#ytrain.drop('id', axis = 1, inplace = True)\n",
    "#yvalid.drop('id', axis = 1, inplace = True)"
   ]
  },
  {
   "cell_type": "code",
   "execution_count": null,
   "metadata": {},
   "outputs": [],
   "source": [
    "print('Training accuracy: ', accuracy_score(ytrain, trainxgb))\n",
    "print('Validation accuracy: ', accuracy_score(yvalid, predxgb))"
   ]
  },
  {
   "cell_type": "code",
   "execution_count": null,
   "metadata": {},
   "outputs": [],
   "source": [
    "xtrain, xvalid = xtrain_FS, xvalid_FS\n",
    "#TODO perform grid search to find best hyperparameters (this has potential)\n",
    "xgb = XGBClassifier(max_depth=9, n_estimators=300,\n",
    "       objective='multi:softmax') #can also use softprob for multiclass\n",
    "xgb.fit(xtrain,ytrain)\n",
    "trainxgb = xgb.predict(xtrain)\n",
    "predxgb = xgb.predict(xvalid)\n",
    "print('Training accuracy: ', accuracy_score(ytrain, trainxgb))\n",
    "print('Validation accuracy: ', accuracy_score(yvalid, predxgb))"
   ]
  },
  {
   "cell_type": "markdown",
   "metadata": {},
   "source": [
    "# XG Boost parameter tuning"
   ]
  },
  {
   "cell_type": "code",
   "execution_count": null,
   "metadata": {
    "collapsed": true
   },
   "outputs": [],
   "source": [
    "xtrain, xvalid = xtrain_FS, xvalid_FS"
   ]
  },
  {
   "cell_type": "code",
   "execution_count": null,
   "metadata": {
    "collapsed": true
   },
   "outputs": [],
   "source": [
    "param_test1 = {\n",
    " 'max_depth':range(3,10,3),\n",
    " 'min_child_weight':range(1,6,2)\n",
    "}\n",
    "gsearch1 = GridSearchCV(estimator = XGBClassifier( learning_rate =0.1, n_estimators=140, max_depth=5,\n",
    " min_child_weight=1, gamma=0, subsample=0.8, colsample_bytree=0.8,\n",
    " objective= 'multi:softmax', nthread=4, scale_pos_weight=1, seed=27), \n",
    " param_grid = param_test1, scoring='roc_auc',n_jobs=4,iid=False, cv=5)\n",
    "\n",
    "gsearch1.fit(xtrain, ytrain.values.ravel())\n",
    "gsearch1.grid_scores_, gsearch1.best_params_, gsearch1.best_score_"
   ]
  },
  {
   "cell_type": "code",
   "execution_count": null,
   "metadata": {
    "collapsed": true
   },
   "outputs": [],
   "source": [
    "rf1 = RandomForestClassifier(max_depth=30, criterion = 'gini', max_features='sqrt', n_estimators=500).fit(xtrain,ytrain)\n",
    "predrf1 = rf1.predict(xvalid)"
   ]
  },
  {
   "cell_type": "code",
   "execution_count": null,
   "metadata": {
    "collapsed": true
   },
   "outputs": [],
   "source": [
    "print('Training accuracy: ', accuracy_score(ytrain, rf1.predict(xtrain)))\n",
    "print('Validation accuracy: ', accuracy_score(yvalid, predrf1))"
   ]
  },
  {
   "cell_type": "code",
   "execution_count": null,
   "metadata": {
    "collapsed": true
   },
   "outputs": [],
   "source": [
    "rf2 = RandomForestClassifier(max_depth=30, criterion = 'gini', max_features='sqrt', n_estimators=700).fit(xtrain,ytrain)\n",
    "predrf2 = rf2.predict(xvalid)\n",
    "print('Training accuracy: ', accuracy_score(ytrain, rf2.predict(xtrain)))\n",
    "print('Validation accuracy: ', accuracy_score(yvalid, predrf2))\n"
   ]
  },
  {
   "cell_type": "code",
   "execution_count": null,
   "metadata": {
    "collapsed": true
   },
   "outputs": [],
   "source": [
    "rf3 = RandomForestClassifier(n_estimators=300, \n",
    "                                min_samples_split=8,\n",
    "                                max_features='sqrt',\n",
    "                                max_depth=95)\n",
    "rf3.fit(xtrain,ytrain)\n",
    "trainrf3 = rf3.predict(xtrain)\n",
    "predrf3 = rf3.predict(xvalid)\n",
    "print('Training accuracy: ', accuracy_score(ytrain, trainrf3))\n",
    "print('Validation accuracy: ', accuracy_score(yvalid, predrf3))"
   ]
  },
  {
   "cell_type": "markdown",
   "metadata": {},
   "source": [
    "# Stacking our best two models\n",
    "\n",
    "TODO: code own stacker thing\n",
    "plot correlation of two models (more uncorrelated is better askip)"
   ]
  },
  {
   "cell_type": "code",
   "execution_count": null,
   "metadata": {
    "collapsed": true
   },
   "outputs": [],
   "source": [
    "stacker = LogisticRegression()\n",
    "twotrain = pd.concat([pd.Series(trainrf3),pd.Series(trainxgb)], axis = 1)\n",
    "twopred = pd.concat([pd.Series(predrf3),pd.Series(predxgb)], axis = 1)\n",
    "\n",
    "stacker.fit(twotrain, ytrain)"
   ]
  },
  {
   "cell_type": "code",
   "execution_count": null,
   "metadata": {
    "collapsed": true
   },
   "outputs": [],
   "source": [
    "stackerpred = stacker.predict(twopred)"
   ]
  },
  {
   "cell_type": "code",
   "execution_count": null,
   "metadata": {
    "collapsed": true
   },
   "outputs": [],
   "source": [
    "print('Training accuracy: ', accuracy_score(ytrain, stacker.predict(twotrain)))\n",
    "print('Validation accuracy: ', accuracy_score(yvalid, stackerpred))"
   ]
  },
  {
   "cell_type": "code",
   "execution_count": null,
   "metadata": {
    "collapsed": true
   },
   "outputs": [],
   "source": [
    "cm = confusion_matrix(predrf3,yvalid)"
   ]
  },
  {
   "cell_type": "code",
   "execution_count": null,
   "metadata": {
    "collapsed": true
   },
   "outputs": [],
   "source": [
    "plt.matshow(cm)\n",
    "plt.title('Confusion matrix')\n",
    "plt.colorbar()\n",
    "plt.ylabel('True label')\n",
    "plt.xlabel('Predicted label')\n",
    "plt.show()"
   ]
  },
  {
   "cell_type": "code",
   "execution_count": null,
   "metadata": {
    "collapsed": true
   },
   "outputs": [],
   "source": [
    "print(cm)"
   ]
  },
  {
   "cell_type": "code",
   "execution_count": null,
   "metadata": {
    "collapsed": true
   },
   "outputs": [],
   "source": [
    "cm2 = confusion_matrix(predxgb,yvalid)"
   ]
  },
  {
   "cell_type": "code",
   "execution_count": null,
   "metadata": {
    "collapsed": true
   },
   "outputs": [],
   "source": [
    "print(cm2)"
   ]
  },
  {
   "cell_type": "code",
   "execution_count": null,
   "metadata": {
    "collapsed": true
   },
   "outputs": [],
   "source": [
    "twotrain.corr()"
   ]
  },
  {
   "cell_type": "code",
   "execution_count": null,
   "metadata": {
    "collapsed": true
   },
   "outputs": [],
   "source": [
    "twopred.corr()"
   ]
  },
  {
   "cell_type": "code",
   "execution_count": null,
   "metadata": {
    "collapsed": true
   },
   "outputs": [],
   "source": []
  }
 ],
 "metadata": {
  "kernelspec": {
   "display_name": "Python 3",
   "language": "python",
   "name": "python3"
  },
  "language_info": {
   "codemirror_mode": {
    "name": "ipython",
    "version": 3
   },
   "file_extension": ".py",
   "mimetype": "text/x-python",
   "name": "python",
   "nbconvert_exporter": "python",
   "pygments_lexer": "ipython3",
   "version": "3.6.8"
  }
 },
 "nbformat": 4,
 "nbformat_minor": 2
}
