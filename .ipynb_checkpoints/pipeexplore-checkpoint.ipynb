{
 "cells": [
  {
   "cell_type": "code",
   "execution_count": 1,
   "metadata": {},
   "outputs": [
    {
     "data": {
      "application/javascript": [
       "IPython.OutputArea.prototype._should_scroll = function(lines) {\n",
       "    return false;\n",
       "}"
      ],
      "text/plain": [
       "<IPython.core.display.Javascript object>"
      ]
     },
     "metadata": {},
     "output_type": "display_data"
    }
   ],
   "source": [
    "%%javascript\n",
    "IPython.OutputArea.prototype._should_scroll = function(lines) {\n",
    "    return false;\n",
    "}"
   ]
  },
  {
   "cell_type": "code",
   "execution_count": 2,
   "metadata": {
    "collapsed": true
   },
   "outputs": [],
   "source": [
    "import warnings\n",
    "warnings.filterwarnings('ignore')\n",
    "import re\n",
    "import numpy as np\n",
    "import matplotlib.pyplot as plt\n",
    "import pandas as pd\n",
    "from pandas.api.types import is_string_dtype, is_numeric_dtype\n",
    "\n",
    "import seaborn as sns\n",
    "from statsmodels.graphics.mosaicplot import mosaic\n",
    "import squarify\n",
    "\n",
    "from sklearn.preprocessing import Normalizer\n",
    "from sklearn.decomposition import PCA\n",
    "from sklearn.discriminant_analysis import LinearDiscriminantAnalysis\n",
    "from sklearn.ensemble import RandomForestClassifier "
   ]
  },
  {
   "cell_type": "code",
   "execution_count": 3,
   "metadata": {
    "collapsed": true
   },
   "outputs": [],
   "source": [
    "x_train = pd.read_csv('https://raw.githubusercontent.com/kayoyin/datasets/master/xtrain_clean.csv')\n",
    "y_train = pd.read_csv('https://raw.githubusercontent.com/kayoyin/datasets/master/y_train.csv')\n",
    "x_test = pd.read_csv('https://raw.githubusercontent.com/kayoyin/datasets/master/xtest_clean.csv', parse_dates = ['date_recorded'])"
   ]
  },
  {
   "cell_type": "code",
   "execution_count": 4,
   "metadata": {
    "collapsed": true
   },
   "outputs": [],
   "source": [
    "y_num = y_train.replace(['functional','non functional', 'functional needs repair'], [0,1,2]) # replace labels by numerical values\n",
    "data_viz = pd.concat([x_train,y_train['status_group']],axis=1) # data and target in one DF\n",
    "labels = pd.get_dummies(y_train) #one-hot encoding of target"
   ]
  },
  {
   "cell_type": "code",
   "execution_count": 5,
   "metadata": {
    "collapsed": true
   },
   "outputs": [],
   "source": [
    "func = data_viz.loc[data_viz.status_group == 'functional']\n",
    "non = data_viz.loc[data_viz.status_group == 'non functional']\n",
    "repair = data_viz.loc[data_viz.status_group == 'functional needs repair']"
   ]
  },
  {
   "cell_type": "code",
   "execution_count": 6,
   "metadata": {},
   "outputs": [
    {
     "data": {
      "image/png": "[encoded data removed]",
      "text/plain": [
       "<Figure size 1008x504 with 1 Axes>"
      ]
     },
     "metadata": {},
     "output_type": "display_data"
    }
   ],
   "source": [
    "# Few points are labeled need repair, probably will be hardest to predict\n",
    "plt.figure(figsize=(14,7))\n",
    "sns.countplot(x='status_group',data=y_train, palette=\"rainbow\")\n",
    "plt.title(\"Label distribution\")\n",
    "plt.show()"
   ]
  },
  {
   "cell_type": "code",
   "execution_count": 7,
   "metadata": {},
   "outputs": [
    {
     "data": {
      "text/plain": [
       "Index(['Unnamed: 0', 'id', 'date_recorded', 'gps_height', 'longitude',\n",
       "       'latitude', 'basin', 'public_meeting', 'scheme_management',\n",
       "       'construction_year', 'extraction_type_class', 'management',\n",
       "       'payment_type', 'water_quality', 'quantity', 'source', 'source_class',\n",
       "       'waterpoint_type', 'year_recorded', 'date_recordedMonth',\n",
       "       'date_recordedElapsed', 'population_log', 'age'],\n",
       "      dtype='object')"
      ]
     },
     "execution_count": 7,
     "metadata": {},
     "output_type": "execute_result"
    }
   ],
   "source": [
    "x_train.columns"
   ]
  },
  {
   "cell_type": "code",
   "execution_count": null,
   "metadata": {
    "collapsed": true
   },
   "outputs": [],
   "source": [
    "x_train.drop('date_recorded', axis = 1, inplace = True)\n",
    "x_test.drop('date_recorded', axis = 1, inplace = True)"
   ]
  },
  {
   "cell_type": "markdown",
   "metadata": {},
   "source": [
    "## EDA and Feature Selection"
   ]
  },
  {
   "cell_type": "code",
   "execution_count": null,
   "metadata": {},
   "outputs": [],
   "source": [
    "cat_df = pd.DataFrame(columns=[\"Feature\", \"Cardinality\"])\n",
    "i=0\n",
    "for col in x_train.columns:\n",
    "    if (x_train[col].dtype == np.object):\n",
    "        cat_df.loc[i,\"Feature\"] = col\n",
    "        cat_df.loc[i,\"Cardinality\"] = len(x_train[col].unique())\n",
    "        i+=1\n",
    "\n",
    "print(\"Total cardinality of categorical features:\",cat_df.Cardinality.sum())\n",
    "\n",
    "cat_df"
   ]
  },
  {
   "cell_type": "markdown",
   "metadata": {},
   "source": [
    "## Geographical data plots"
   ]
  },
  {
   "cell_type": "code",
   "execution_count": null,
   "metadata": {
    "scrolled": true
   },
   "outputs": [],
   "source": [
    "plt.figure(1,dpi=150)\n",
    "x_geo = x_train.drop(x_train[x_train['longitude'] == 0].index)\n",
    "y_geo = y_num.drop(x_train[x_train['longitude'] == 0].index)\n",
    "plt.scatter(x_geo['longitude'], x_geo['latitude'], c = y_geo.iloc[:,1], cmap = 'rainbow', s = 5)\n",
    "plt.title(\"functional - purple, non functional - green, needs repair - red\")\n",
    "plt.colorbar()\n",
    "plt.show()"
   ]
  },
  {
   "cell_type": "code",
   "execution_count": null,
   "metadata": {},
   "outputs": [],
   "source": [
    "sns.jointplot(y=func['latitude'], x=func['longitude'], kind='kde')\n",
    "plt.show()"
   ]
  },
  {
   "cell_type": "code",
   "execution_count": null,
   "metadata": {},
   "outputs": [],
   "source": [
    "sns.jointplot(y=non['latitude'], x=non['longitude'], kind='kde')\n",
    "plt.show()"
   ]
  },
  {
   "cell_type": "code",
   "execution_count": null,
   "metadata": {
    "scrolled": true
   },
   "outputs": [],
   "source": [
    "sns.jointplot(y=repair['latitude'], x=repair['longitude'], kind='kde')\n",
    "plt.show()"
   ]
  },
  {
   "cell_type": "code",
   "execution_count": null,
   "metadata": {},
   "outputs": [],
   "source": [
    "# Height distrinbution per label\n",
    "plt.figure(figsize=(14,10))\n",
    "\n",
    "p1=sns.kdeplot(data_viz[['gps_height','status_group']][data_viz.status_group == 'functional']\n",
    "               [data_viz.gps_height > 0].gps_height, shade=True, color=\"g\",label='functional')\n",
    "p1=sns.kdeplot(data_viz[['gps_height','status_group']][data_viz.status_group == 'non functional']\n",
    "               [data_viz.gps_height > 0].gps_height, shade=True, color=\"r\",label='non functional')\n",
    "p1=sns.kdeplot(data_viz[['gps_height','status_group']][data_viz.status_group == 'functional needs repair']\n",
    "               [data_viz.gps_height > 0].gps_height, shade=True, color=\"y\",label='functional needs repair')\n",
    "\n",
    "plt.show()"
   ]
  },
  {
   "cell_type": "markdown",
   "metadata": {},
   "source": [
    "# Feature selection"
   ]
  },
  {
   "cell_type": "code",
   "execution_count": null,
   "metadata": {},
   "outputs": [],
   "source": [
    "cor = data_viz.corr()\n",
    "plt.figure(figsize=(14,13))\n",
    "sns.heatmap(cor, square=True, annot=True, cbar=False)\n",
    "plt.show()"
   ]
  },
  {
   "cell_type": "code",
   "execution_count": null,
   "metadata": {
    "collapsed": true
   },
   "outputs": [],
   "source": [
    "# Turn all data types into categorical data types\n",
    "def train_cats(df):\n",
    "     for n,c in df.items():\n",
    "        if is_string_dtype(c): df[n] = c.astype('category').cat.as_ordered()"
   ]
  },
  {
   "cell_type": "code",
   "execution_count": null,
   "metadata": {},
   "outputs": [],
   "source": [
    "rf = RandomForestClassifier() \n",
    "rf.fit(x_train, labels) \n",
    "feature_importances = pd.DataFrame(rf.feature_importances_,index = x_train.columns,columns=['importance']).sort_values('importance', ascending=False)"
   ]
  },
  {
   "cell_type": "markdown",
   "metadata": {},
   "source": [
    "## Dimensionality Reduction "
   ]
  },
  {
   "cell_type": "code",
   "execution_count": null,
   "metadata": {
    "collapsed": true
   },
   "outputs": [],
   "source": [
    "# Defining the normalized\n",
    "normalizer = Normalizer()\n",
    "\n",
    "# Fitting normalizer to train set\n",
    "normalizer.fit(x_train)\n",
    "norm_train = normalizer.transform(x_train)"
   ]
  }
 ],
 "metadata": {
  "kernelspec": {
   "display_name": "Python 3",
   "language": "python",
   "name": "python3"
  },
  "language_info": {
   "codemirror_mode": {
    "name": "ipython",
    "version": 3
   },
   "file_extension": ".py",
   "mimetype": "text/x-python",
   "name": "python",
   "nbconvert_exporter": "python",
   "pygments_lexer": "ipython3",
   "version": "3.6.1"
  }
 },
 "nbformat": 4,
 "nbformat_minor": 2
}
