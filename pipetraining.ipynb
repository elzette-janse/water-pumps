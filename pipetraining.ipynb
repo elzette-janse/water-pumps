{
 "cells": [
  {
   "cell_type": "code",
   "execution_count": 1,
   "metadata": {},
   "outputs": [
    {
     "data": {
      "application/javascript": [
       "IPython.OutputArea.prototype._should_scroll = function(lines) {\n",
       "    return false;\n",
       "}\n"
      ],
      "text/plain": [
       "<IPython.core.display.Javascript object>"
      ]
     },
     "metadata": {},
     "output_type": "display_data"
    }
   ],
   "source": [
    "%%javascript\n",
    "IPython.OutputArea.prototype._should_scroll = function(lines) {\n",
    "    return false;\n",
    "}"
   ]
  },
  {
   "cell_type": "code",
   "execution_count": 2,
   "metadata": {},
   "outputs": [],
   "source": [
    "import warnings\n",
    "warnings.filterwarnings('ignore')\n",
    "import re\n",
    "import numpy as np\n",
    "import matplotlib.pyplot as plt\n",
    "import pandas as pd\n",
    "from pandas.api.types import is_string_dtype, is_numeric_dtype\n",
    "\n",
    "from sklearn.model_selection import train_test_split, cross_val_score, GridSearchCV\n",
    "from sklearn.tree import DecisionTreeClassifier\n",
    "from sklearn.ensemble import RandomForestClassifier, ExtraTreesClassifier\n",
    "from sklearn.svm import SVC\n",
    "from sklearn.linear_model import SGDClassifier\n",
    "from sklearn.neighbors import KNeighborsClassifier\n",
    "from sklearn.naive_bayes import GaussianNB\n",
    "from sklearn.neural_network import MLPClassifier\n",
    "from sklearn.metrics import accuracy_score"
   ]
  },
  {
   "cell_type": "code",
   "execution_count": 3,
   "metadata": {},
   "outputs": [],
   "source": [
    "x_train = pd.read_csv('https://raw.githubusercontent.com/kayoyin/datasets/master/xtrain_clean.csv')\n",
    "y_train = pd.read_csv('https://raw.githubusercontent.com/kayoyin/datasets/master/y_train.csv')\n",
    "x_test = pd.read_csv('https://raw.githubusercontent.com/kayoyin/datasets/master/xtest_clean.csv')"
   ]
  },
  {
   "cell_type": "code",
   "execution_count": 4,
   "metadata": {},
   "outputs": [],
   "source": [
    "# Turn all data types into categorical data types\n",
    "def train_cats(df):\n",
    "    for n,c in df.items():\n",
    "        if is_string_dtype(c): \n",
    "            df[n] = pd.factorize(df[n])[0]\n",
    "    return df"
   ]
  },
  {
   "cell_type": "code",
   "execution_count": 5,
   "metadata": {},
   "outputs": [],
   "source": [
    "x_train = train_cats(x_train)"
   ]
  },
  {
   "cell_type": "code",
   "execution_count": 6,
   "metadata": {},
   "outputs": [],
   "source": [
    "y_num = y_train.replace(['functional','non functional', 'functional needs repair'], [0,1,2]) # replace labels by numerical values\n"
   ]
  },
  {
   "cell_type": "code",
   "execution_count": 7,
   "metadata": {},
   "outputs": [],
   "source": [
    "#x_train.drop('id', axis = 1, inplace = True)\n",
    "#y_train.drop('id', axis = 1, inplace = True)\n",
    "x_test.drop('id', axis = 1, inplace = True)"
   ]
  },
  {
   "cell_type": "code",
   "execution_count": 8,
   "metadata": {},
   "outputs": [],
   "source": [
    "xtrain, xvalid, ytrain, yvalid = train_test_split(x_train, y_num, test_size=0.2)"
   ]
  },
  {
   "cell_type": "code",
   "execution_count": 9,
   "metadata": {},
   "outputs": [
    {
     "data": {
      "text/html": [
       "<div>\n",
       "<style scoped>\n",
       "    .dataframe tbody tr th:only-of-type {\n",
       "        vertical-align: middle;\n",
       "    }\n",
       "\n",
       "    .dataframe tbody tr th {\n",
       "        vertical-align: top;\n",
       "    }\n",
       "\n",
       "    .dataframe thead th {\n",
       "        text-align: right;\n",
       "    }\n",
       "</style>\n",
       "<table border=\"1\" class=\"dataframe\">\n",
       "  <thead>\n",
       "    <tr style=\"text-align: right;\">\n",
       "      <th></th>\n",
       "      <th>Unnamed: 0</th>\n",
       "      <th>id</th>\n",
       "      <th>gps_height</th>\n",
       "      <th>longitude</th>\n",
       "      <th>latitude</th>\n",
       "      <th>basin</th>\n",
       "      <th>public_meeting</th>\n",
       "      <th>scheme_management</th>\n",
       "      <th>construction_year</th>\n",
       "      <th>extraction_type_class</th>\n",
       "      <th>...</th>\n",
       "      <th>water_quality</th>\n",
       "      <th>quantity</th>\n",
       "      <th>source</th>\n",
       "      <th>source_class</th>\n",
       "      <th>waterpoint_type</th>\n",
       "      <th>year_recorded</th>\n",
       "      <th>date_recordedMonth</th>\n",
       "      <th>date_recordedElapsed</th>\n",
       "      <th>population_log</th>\n",
       "      <th>age</th>\n",
       "    </tr>\n",
       "  </thead>\n",
       "  <tbody>\n",
       "    <tr>\n",
       "      <th>31620</th>\n",
       "      <td>31620</td>\n",
       "      <td>59881</td>\n",
       "      <td>1602.000000</td>\n",
       "      <td>35.54</td>\n",
       "      <td>-4.195354</td>\n",
       "      <td>4</td>\n",
       "      <td>1</td>\n",
       "      <td>0</td>\n",
       "      <td>2012.0</td>\n",
       "      <td>0</td>\n",
       "      <td>...</td>\n",
       "      <td>0</td>\n",
       "      <td>0</td>\n",
       "      <td>0</td>\n",
       "      <td>0</td>\n",
       "      <td>0</td>\n",
       "      <td>2013</td>\n",
       "      <td>2</td>\n",
       "      <td>782</td>\n",
       "      <td>5.484797</td>\n",
       "      <td>1.0</td>\n",
       "    </tr>\n",
       "    <tr>\n",
       "      <th>56169</th>\n",
       "      <td>56169</td>\n",
       "      <td>17065</td>\n",
       "      <td>709.166667</td>\n",
       "      <td>32.77</td>\n",
       "      <td>-3.909730</td>\n",
       "      <td>4</td>\n",
       "      <td>1</td>\n",
       "      <td>0</td>\n",
       "      <td>2010.0</td>\n",
       "      <td>0</td>\n",
       "      <td>...</td>\n",
       "      <td>0</td>\n",
       "      <td>0</td>\n",
       "      <td>0</td>\n",
       "      <td>0</td>\n",
       "      <td>1</td>\n",
       "      <td>2012</td>\n",
       "      <td>10</td>\n",
       "      <td>639</td>\n",
       "      <td>6.249975</td>\n",
       "      <td>2.0</td>\n",
       "    </tr>\n",
       "    <tr>\n",
       "      <th>20334</th>\n",
       "      <td>20334</td>\n",
       "      <td>55939</td>\n",
       "      <td>781.097430</td>\n",
       "      <td>33.37</td>\n",
       "      <td>-2.797178</td>\n",
       "      <td>1</td>\n",
       "      <td>1</td>\n",
       "      <td>0</td>\n",
       "      <td>2000.0</td>\n",
       "      <td>2</td>\n",
       "      <td>...</td>\n",
       "      <td>0</td>\n",
       "      <td>0</td>\n",
       "      <td>5</td>\n",
       "      <td>0</td>\n",
       "      <td>2</td>\n",
       "      <td>2011</td>\n",
       "      <td>8</td>\n",
       "      <td>219</td>\n",
       "      <td>5.525453</td>\n",
       "      <td>11.0</td>\n",
       "    </tr>\n",
       "    <tr>\n",
       "      <th>41760</th>\n",
       "      <td>41760</td>\n",
       "      <td>51800</td>\n",
       "      <td>1529.000000</td>\n",
       "      <td>37.44</td>\n",
       "      <td>-3.295832</td>\n",
       "      <td>2</td>\n",
       "      <td>1</td>\n",
       "      <td>0</td>\n",
       "      <td>1974.0</td>\n",
       "      <td>0</td>\n",
       "      <td>...</td>\n",
       "      <td>0</td>\n",
       "      <td>0</td>\n",
       "      <td>0</td>\n",
       "      <td>0</td>\n",
       "      <td>0</td>\n",
       "      <td>2013</td>\n",
       "      <td>2</td>\n",
       "      <td>785</td>\n",
       "      <td>4.110874</td>\n",
       "      <td>39.0</td>\n",
       "    </tr>\n",
       "    <tr>\n",
       "      <th>50380</th>\n",
       "      <td>50380</td>\n",
       "      <td>19671</td>\n",
       "      <td>1450.000000</td>\n",
       "      <td>34.76</td>\n",
       "      <td>-8.812594</td>\n",
       "      <td>7</td>\n",
       "      <td>1</td>\n",
       "      <td>6</td>\n",
       "      <td>1978.0</td>\n",
       "      <td>0</td>\n",
       "      <td>...</td>\n",
       "      <td>0</td>\n",
       "      <td>2</td>\n",
       "      <td>6</td>\n",
       "      <td>1</td>\n",
       "      <td>0</td>\n",
       "      <td>2011</td>\n",
       "      <td>3</td>\n",
       "      <td>85</td>\n",
       "      <td>4.330733</td>\n",
       "      <td>33.0</td>\n",
       "    </tr>\n",
       "  </tbody>\n",
       "</table>\n",
       "<p>5 rows × 22 columns</p>\n",
       "</div>"
      ],
      "text/plain": [
       "       Unnamed: 0     id   gps_height  longitude  latitude  basin  \\\n",
       "31620       31620  59881  1602.000000      35.54 -4.195354      4   \n",
       "56169       56169  17065   709.166667      32.77 -3.909730      4   \n",
       "20334       20334  55939   781.097430      33.37 -2.797178      1   \n",
       "41760       41760  51800  1529.000000      37.44 -3.295832      2   \n",
       "50380       50380  19671  1450.000000      34.76 -8.812594      7   \n",
       "\n",
       "       public_meeting  scheme_management  construction_year  \\\n",
       "31620               1                  0             2012.0   \n",
       "56169               1                  0             2010.0   \n",
       "20334               1                  0             2000.0   \n",
       "41760               1                  0             1974.0   \n",
       "50380               1                  6             1978.0   \n",
       "\n",
       "       extraction_type_class  ...  water_quality  quantity  source  \\\n",
       "31620                      0  ...              0         0       0   \n",
       "56169                      0  ...              0         0       0   \n",
       "20334                      2  ...              0         0       5   \n",
       "41760                      0  ...              0         0       0   \n",
       "50380                      0  ...              0         2       6   \n",
       "\n",
       "       source_class  waterpoint_type  year_recorded  date_recordedMonth  \\\n",
       "31620             0                0           2013                   2   \n",
       "56169             0                1           2012                  10   \n",
       "20334             0                2           2011                   8   \n",
       "41760             0                0           2013                   2   \n",
       "50380             1                0           2011                   3   \n",
       "\n",
       "       date_recordedElapsed  population_log   age  \n",
       "31620                   782        5.484797   1.0  \n",
       "56169                   639        6.249975   2.0  \n",
       "20334                   219        5.525453  11.0  \n",
       "41760                   785        4.110874  39.0  \n",
       "50380                    85        4.330733  33.0  \n",
       "\n",
       "[5 rows x 22 columns]"
      ]
     },
     "execution_count": 9,
     "metadata": {},
     "output_type": "execute_result"
    }
   ],
   "source": [
    "xtrain.head()"
   ]
  },
  {
   "cell_type": "code",
   "execution_count": null,
   "metadata": {},
   "outputs": [],
   "source": []
  },
  {
   "cell_type": "markdown",
   "metadata": {},
   "source": [
    "# Decision Tree Classifier"
   ]
  },
  {
   "cell_type": "code",
   "execution_count": 33,
   "metadata": {},
   "outputs": [],
   "source": [
    "dtc = DecisionTreeClassifier(max_depth=5).fit(xtrain, ytrain)\n",
    "pred1 = dtc.predict(xvalid)"
   ]
  },
  {
   "cell_type": "code",
   "execution_count": 34,
   "metadata": {},
   "outputs": [
    {
     "name": "stdout",
     "output_type": "stream",
     "text": [
      "Training accuracy:  0.7111952861952862\n",
      "Validation accuracy:  0.7082491582491582\n"
     ]
    }
   ],
   "source": [
    "print('Training accuracy: ', accuracy_score(ytrain, dtc.predict(xtrain)))\n",
    "print('Validation accuracy: ', accuracy_score(yvalid, pred1))"
   ]
  },
  {
   "cell_type": "markdown",
   "metadata": {},
   "source": [
    "# Random Forest Classifier"
   ]
  },
  {
   "cell_type": "code",
   "execution_count": 35,
   "metadata": {},
   "outputs": [],
   "source": [
    "rf = RandomForestClassifier(max_depth=100).fit(xtrain,ytrain)\n",
    "pred2 = rf.predict(xvalid)"
   ]
  },
  {
   "cell_type": "code",
   "execution_count": 36,
   "metadata": {},
   "outputs": [
    {
     "name": "stdout",
     "output_type": "stream",
     "text": [
      "Training ccuracy:  0.9840488215488216\n",
      "Validation accuracy:  0.7871212121212121\n"
     ]
    }
   ],
   "source": [
    "print('Training accuracy: ', accuracy_score(ytrain, rf.predict(xtrain)))\n",
    "print('Validation accuracy: ', accuracy_score(yvalid, pred2))"
   ]
  },
  {
   "cell_type": "markdown",
   "metadata": {},
   "source": []
  },
  {
   "cell_type": "code",
   "execution_count": null,
   "metadata": {},
   "outputs": [],
   "source": []
  },
  {
   "cell_type": "markdown",
   "metadata": {},
   "source": [
    "# Support Vector Machine"
   ]
  },
  {
   "cell_type": "code",
   "execution_count": 38,
   "metadata": {},
   "outputs": [],
   "source": [
    "svm = SVC().fit(xtrain,ytrain)\n",
    "pred3 = svm.predict(xvalid)"
   ]
  },
  {
   "cell_type": "code",
   "execution_count": 39,
   "metadata": {},
   "outputs": [
    {
     "name": "stdout",
     "output_type": "stream",
     "text": [
      "Training ccuracy:  1.0\n",
      "Validation accuracy:  0.5353535353535354\n"
     ]
    }
   ],
   "source": [
    "print('Training accuracy: ', accuracy_score(ytrain, svm.predict(xtrain)))\n",
    "print('Validation accuracy: ', accuracy_score(yvalid, pred3))"
   ]
  },
  {
   "cell_type": "markdown",
   "metadata": {},
   "source": [
    "# SGD"
   ]
  },
  {
   "cell_type": "code",
   "execution_count": 41,
   "metadata": {},
   "outputs": [],
   "source": [
    "sgd = SGDClassifier(loss=\"hinge\", penalty=\"l2\").fit(xtrain,ytrain)\n",
    "pred4 = sgd.predict(xvalid)"
   ]
  },
  {
   "cell_type": "code",
   "execution_count": 42,
   "metadata": {},
   "outputs": [
    {
     "name": "stdout",
     "output_type": "stream",
     "text": [
      "Training accuracy:  0.54503367003367\n",
      "Validation accuracy:  0.5361111111111111\n"
     ]
    }
   ],
   "source": [
    "print('Training accuracy: ', accuracy_score(ytrain, sgd.predict(xtrain)))\n",
    "print('Validation accuracy: ', accuracy_score(yvalid, pred4))"
   ]
  },
  {
   "cell_type": "markdown",
   "metadata": {},
   "source": [
    "# KNN"
   ]
  },
  {
   "cell_type": "code",
   "execution_count": 44,
   "metadata": {},
   "outputs": [],
   "source": [
    "knn = KNeighborsClassifier(n_neighbors=7).fit(xtrain,ytrain)\n",
    "pred5 = knn.predict(xvalid)"
   ]
  },
  {
   "cell_type": "code",
   "execution_count": 45,
   "metadata": {},
   "outputs": [
    {
     "name": "stdout",
     "output_type": "stream",
     "text": [
      "Training accuracy:  0.6333122895622896\n",
      "Validation accuracy:  0.49595959595959593\n"
     ]
    }
   ],
   "source": [
    "print('Training accuracy: ', accuracy_score(ytrain, knn.predict(xtrain)))\n",
    "print('Validation accuracy: ', accuracy_score(yvalid, pred5))"
   ]
  },
  {
   "cell_type": "markdown",
   "metadata": {},
   "source": [
    "# Naive Bayes"
   ]
  },
  {
   "cell_type": "code",
   "execution_count": 47,
   "metadata": {},
   "outputs": [],
   "source": [
    "gnb = GaussianNB().fit(xtrain,ytrain)\n",
    "pred6 = gnb.predict(xvalid)"
   ]
  },
  {
   "cell_type": "code",
   "execution_count": 48,
   "metadata": {},
   "outputs": [
    {
     "name": "stdout",
     "output_type": "stream",
     "text": [
      "Training accuracy:  0.6289772727272728\n",
      "Validation accuracy:  0.6266835016835017\n"
     ]
    }
   ],
   "source": [
    "print('Training accuracy: ', accuracy_score(ytrain, gnb.predict(xtrain)))\n",
    "print('Validation accuracy: ', accuracy_score(yvalid, pred6))"
   ]
  },
  {
   "cell_type": "markdown",
   "metadata": {},
   "source": [
    "# Neural Network"
   ]
  },
  {
   "cell_type": "code",
   "execution_count": 49,
   "metadata": {},
   "outputs": [],
   "source": [
    "mlp = MLPClassifier().fit(xtrain,ytrain)\n",
    "pred7 = mlp.predict(xvalid)"
   ]
  },
  {
   "cell_type": "code",
   "execution_count": 50,
   "metadata": {},
   "outputs": [
    {
     "name": "stdout",
     "output_type": "stream",
     "text": [
      "Training accuracy:  0.4540824915824916\n",
      "Validation accuracy:  0.4535353535353535\n"
     ]
    }
   ],
   "source": [
    "print('Training accuracy: ', accuracy_score(ytrain, mlp.predict(xtrain)))\n",
    "print('Validation accuracy: ', accuracy_score(yvalid, pred7))"
   ]
  },
  {
   "cell_type": "markdown",
   "metadata": {},
   "source": [
    "# Optimizing the Random Forest"
   ]
  },
  {
   "cell_type": "code",
   "execution_count": 54,
   "metadata": {},
   "outputs": [],
   "source": [
    "param_grid = { \n",
    "    'n_estimators': [300, 500],\n",
    "    'max_features': ['auto', 'sqrt', 'log2'],\n",
    "    'max_depth' : [5,10,30,50],\n",
    "    'criterion' :['gini', 'entropy']\n",
    "}"
   ]
  },
  {
   "cell_type": "code",
   "execution_count": 56,
   "metadata": {},
   "outputs": [
    {
     "data": {
      "text/plain": [
       "GridSearchCV(cv=5, error_score='raise-deprecating',\n",
       "       estimator=RandomForestClassifier(bootstrap=True, class_weight=None, criterion='gini',\n",
       "            max_depth=None, max_features='auto', max_leaf_nodes=None,\n",
       "            min_impurity_decrease=0.0, min_impurity_split=None,\n",
       "            min_samples_leaf=1, min_samples_split=2,\n",
       "            min_weight_fraction_leaf=0.0, n_estimators='warn', n_jobs=None,\n",
       "            oob_score=False, random_state=None, verbose=0,\n",
       "            warm_start=False),\n",
       "       fit_params=None, iid='warn', n_jobs=None,\n",
       "       param_grid={'n_estimators': [300, 500], 'max_features': ['auto', 'sqrt', 'log2'], 'max_depth': [5, 10, 30, 50], 'criterion': ['gini', 'entropy']},\n",
       "       pre_dispatch='2*n_jobs', refit=True, return_train_score='warn',\n",
       "       scoring=None, verbose=0)"
      ]
     },
     "execution_count": 56,
     "metadata": {},
     "output_type": "execute_result"
    }
   ],
   "source": [
    "gridRF = GridSearchCV(estimator=RandomForestClassifier(), param_grid=param_grid, cv= 5)\n",
    "gridRF.fit(xtrain, ytrain)"
   ]
  },
  {
   "cell_type": "code",
   "execution_count": 57,
   "metadata": {},
   "outputs": [
    {
     "data": {
      "text/plain": [
       "{'criterion': 'gini',\n",
       " 'max_depth': 30,\n",
       " 'max_features': 'sqrt',\n",
       " 'n_estimators': 500}"
      ]
     },
     "execution_count": 57,
     "metadata": {},
     "output_type": "execute_result"
    }
   ],
   "source": [
    "gridRF.best_params_\n"
   ]
  },
  {
   "cell_type": "code",
   "execution_count": 60,
   "metadata": {},
   "outputs": [],
   "source": [
    "rf1 = RandomForestClassifier(max_depth=30, criterion = 'gini', max_features='sqrt', n_estimators=500).fit(xtrain,ytrain)\n",
    "predrf1 = rf1.predict(xvalid)"
   ]
  },
  {
   "cell_type": "code",
   "execution_count": 61,
   "metadata": {},
   "outputs": [
    {
     "name": "stdout",
     "output_type": "stream",
     "text": [
      "Training accuracy:  0.9999368686868687\n",
      "Validation accuracy:  0.803030303030303\n"
     ]
    }
   ],
   "source": [
    "print('Training accuracy: ', accuracy_score(ytrain, rf1.predict(xtrain)))\n",
    "print('Validation accuracy: ', accuracy_score(yvalid, predrf1))"
   ]
  },
  {
   "cell_type": "code",
   "execution_count": 62,
   "metadata": {},
   "outputs": [
    {
     "name": "stdout",
     "output_type": "stream",
     "text": [
      "Training accuracy:  0.9998947811447811\n",
      "Validation accuracy:  0.8035353535353535\n"
     ]
    }
   ],
   "source": [
    "rf2 = RandomForestClassifier(max_depth=30, criterion = 'gini', max_features='sqrt', n_estimators=700).fit(xtrain,ytrain)\n",
    "predrf2 = rf2.predict(xvalid)\n",
    "print('Training accuracy: ', accuracy_score(ytrain, rf2.predict(xtrain)))\n",
    "print('Validation accuracy: ', accuracy_score(yvalid, predrf2))\n"
   ]
  },
  {
   "cell_type": "code",
   "execution_count": 68,
   "metadata": {},
   "outputs": [
    {
     "name": "stdout",
     "output_type": "stream",
     "text": [
      "Training accuracy:  0.9409722222222222\n",
      "Validation accuracy:  0.8053872053872054\n"
     ]
    }
   ],
   "source": [
    "rf3 = RandomForestClassifier(n_estimators=300, \n",
    "                                min_samples_split=8,\n",
    "                                max_features='sqrt',\n",
    "                                max_depth=95,\n",
    "                                random_state=42)\n",
    "rf3.fit(xtrain,ytrain)\n",
    "predrf3 = rf3.predict(xvalid)\n",
    "print('Training accuracy: ', accuracy_score(ytrain, rf3.predict(xtrain)))\n",
    "print('Validation accuracy: ', accuracy_score(yvalid, predrf3))"
   ]
  },
  {
   "cell_type": "markdown",
   "metadata": {},
   "source": [
    "# Extremely Randomized Trees"
   ]
  },
  {
   "cell_type": "code",
   "execution_count": null,
   "metadata": {},
   "outputs": [],
   "source": [
    "etc = ExtraTreesClassifier(n_estimators=300, \n",
    "                                min_samples_split=8,\n",
    "                                max_features='sqrt',\n",
    "                                max_depth=95,\n",
    "                                random_state=42)\n",
    "etc.fit(xtrain,ytrain)\n",
    "predetc = etc.predict(xvalid)\n",
    "print('Training accuracy: ', accuracy_score(ytrain, etc.predict(xtrain)))\n",
    "print('Validation accuracy: ', accuracy_score(yvalid, predetc))"
   ]
  },
  {
   "cell_type": "markdown",
   "metadata": {},
   "source": [
    "# Combining 1 vs All Random Forests"
   ]
  },
  {
   "cell_type": "code",
   "execution_count": 11,
   "metadata": {},
   "outputs": [],
   "source": [
    "y_func = y_train.copy(True)\n",
    "y_nfunc = y_train.copy(True)\n",
    "y_rep = y_train.copy(True)\n",
    "\n",
    "y_func = y_func.replace(['functional','non functional', 'functional needs repair'], [1,0,0]) \n",
    "y_nfunc = y_nfunc.replace(['functional','non functional', 'functional needs repair'], [0,1,0]) \n",
    "y_rep = y_rep.replace(['functional','non functional', 'functional needs repair'], [0,0,1]) \n"
   ]
  },
  {
   "cell_type": "code",
   "execution_count": 12,
   "metadata": {},
   "outputs": [],
   "source": [
    "xtrain, xvalid, yftrain, yfvalid, yntrain, ynvalid, yrtrain, yrvalid = train_test_split(x_train, y_func, y_nfunc, y_rep, test_size=0.2)"
   ]
  },
  {
   "cell_type": "code",
   "execution_count": null,
   "metadata": {},
   "outputs": [],
   "source": [
    "# TODO: Use GridCV to optimize hyperparmeters for each sub forest\n",
    "\n",
    "rffunc = RandomForestClassifier(n_estimators=300, \n",
    "                                min_samples_split=8,\n",
    "                                max_features='sqrt',\n",
    "                                max_depth=95,\n",
    "                                random_state=42)\n",
    "\n",
    "rfnfunc = RandomForestClassifier(n_estimators=300, \n",
    "                                min_samples_split=5,\n",
    "                                max_features='log2',\n",
    "                                max_depth=50,\n",
    "                                random_state=42)\n",
    "\n",
    "rfrep = RandomForestClassifier(n_estimators=50, \n",
    "                                min_samples_split=8,\n",
    "                                max_features='sqrt',\n",
    "                                max_depth=70,\n",
    "                                random_state=42)\n",
    "\n",
    "rffunc.fit(xtrain, yftrain)\n"
   ]
  },
  {
   "cell_type": "code",
   "execution_count": null,
   "metadata": {},
   "outputs": [],
   "source": [
    "rfnfunc.fit(xtrain, yntrain)\n"
   ]
  },
  {
   "cell_type": "code",
   "execution_count": null,
   "metadata": {},
   "outputs": [],
   "source": [
    "rfrep.fit(xtrain, yrtrain)"
   ]
  },
  {
   "cell_type": "code",
   "execution_count": null,
   "metadata": {},
   "outputs": [],
   "source": []
  }
 ],
 "metadata": {
  "kernelspec": {
   "display_name": "Python 3",
   "language": "python",
   "name": "python3"
  },
  "language_info": {
   "codemirror_mode": {
    "name": "ipython",
    "version": 3
   },
   "file_extension": ".py",
   "mimetype": "text/x-python",
   "name": "python",
   "nbconvert_exporter": "python",
   "pygments_lexer": "ipython3",
   "version": "3.6.8"
  }
 },
 "nbformat": 4,
 "nbformat_minor": 2
}
