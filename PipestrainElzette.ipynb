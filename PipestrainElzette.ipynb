{
 "cells": [
  {
   "cell_type": "code",
   "execution_count": 69,
   "metadata": {},
   "outputs": [
    {
     "data": {
      "application/javascript": [
       "IPython.OutputArea.prototype._should_scroll = function(lines) {\n",
       "    return false;\n",
       "}\n"
      ],
      "text/plain": [
       "<IPython.core.display.Javascript object>"
      ]
     },
     "metadata": {},
     "output_type": "display_data"
    }
   ],
   "source": [
    "%%javascript\n",
    "IPython.OutputArea.prototype._should_scroll = function(lines) {\n",
    "    return false;\n",
    "}"
   ]
  },
  {
   "cell_type": "code",
   "execution_count": 70,
   "metadata": {},
   "outputs": [],
   "source": [
    "#!pip install xgboost"
   ]
  },
  {
   "cell_type": "code",
   "execution_count": 71,
   "metadata": {},
   "outputs": [],
   "source": [
    "import warnings\n",
    "warnings.filterwarnings('ignore')\n",
    "import re\n",
    "import numpy as np\n",
    "import matplotlib.pyplot as plt\n",
    "import pandas as pd\n",
    "from pandas.api.types import is_string_dtype, is_numeric_dtype\n",
    "\n",
    "from sklearn.model_selection import train_test_split, cross_val_score, GridSearchCV\n",
    "from sklearn.tree import DecisionTreeClassifier\n",
    "from sklearn.ensemble import RandomForestClassifier, ExtraTreesClassifier\n",
    "from sklearn.svm import SVC\n",
    "from sklearn.linear_model import LogisticRegression\n",
    "from sklearn.linear_model import SGDClassifier\n",
    "from sklearn.neighbors import KNeighborsClassifier\n",
    "from sklearn.naive_bayes import GaussianNB\n",
    "from sklearn.neural_network import MLPClassifier\n",
    "from sklearn.metrics import accuracy_score, confusion_matrix\n",
    "from sklearn.decomposition import PCA\n",
    "from sklearn.preprocessing import StandardScaler\n",
    "from sklearn import metrics\n",
    "\n",
    "#from xgboost import XGBClassifier\n"
   ]
  },
  {
   "cell_type": "code",
   "execution_count": 72,
   "metadata": {},
   "outputs": [],
   "source": [
    "x_train = pd.read_csv('https://raw.githubusercontent.com/jjbl99/waterpump/master/xtrain_clean.csv')\n",
    "y_train = pd.read_csv('https://raw.githubusercontent.com/jjbl99/waterpump/master/Pump_it_Up_Data_Mining_the_Water_Table_-_Training_set_labels.csv')\n",
    "x_test = pd.read_csv('https://raw.githubusercontent.com/jjbl99/waterpump/master/xtest_clean.csv')"
   ]
  },
  {
   "cell_type": "code",
   "execution_count": 73,
   "metadata": {},
   "outputs": [],
   "source": [
    "# Turn all data types into categorical data types\n",
    "def train_cats(df):\n",
    "    for n,c in df.items():\n",
    "        if is_string_dtype(c): \n",
    "            df[n] = pd.factorize(df[n])[0]\n",
    "    return df"
   ]
  },
  {
   "cell_type": "code",
   "execution_count": 74,
   "metadata": {},
   "outputs": [],
   "source": [
    "x_train = train_cats(x_train)\n",
    "x_test = train_cats(x_test)"
   ]
  },
  {
   "cell_type": "code",
   "execution_count": 75,
   "metadata": {},
   "outputs": [],
   "source": [
    "y_num = y_train.replace(['functional','non functional', 'functional needs repair'], [0,1,2]) # replace labels by numerical values\n"
   ]
  },
  {
   "cell_type": "code",
   "execution_count": 76,
   "metadata": {},
   "outputs": [],
   "source": [
    "x_train.drop('id', axis = 1, inplace = True)\n",
    "y_train.drop('id', axis = 1, inplace = True)\n",
    "x_test.drop('id', axis = 1, inplace = True)"
   ]
  },
  {
   "cell_type": "code",
   "execution_count": 77,
   "metadata": {},
   "outputs": [],
   "source": [
    "xtrain, xvalid, ytrain, yvalid = train_test_split(x_train, y_num, test_size=0.2)"
   ]
  },
  {
   "cell_type": "code",
   "execution_count": 78,
   "metadata": {},
   "outputs": [
    {
     "data": {
      "text/html": [
       "<div>\n",
       "<style scoped>\n",
       "    .dataframe tbody tr th:only-of-type {\n",
       "        vertical-align: middle;\n",
       "    }\n",
       "\n",
       "    .dataframe tbody tr th {\n",
       "        vertical-align: top;\n",
       "    }\n",
       "\n",
       "    .dataframe thead th {\n",
       "        text-align: right;\n",
       "    }\n",
       "</style>\n",
       "<table border=\"1\" class=\"dataframe\">\n",
       "  <thead>\n",
       "    <tr style=\"text-align: right;\">\n",
       "      <th></th>\n",
       "      <th>Unnamed: 0</th>\n",
       "      <th>gps_height</th>\n",
       "      <th>longitude</th>\n",
       "      <th>latitude</th>\n",
       "      <th>num_private</th>\n",
       "      <th>basin</th>\n",
       "      <th>public_meeting</th>\n",
       "      <th>scheme_management</th>\n",
       "      <th>construction_year</th>\n",
       "      <th>extraction_type</th>\n",
       "      <th>...</th>\n",
       "      <th>quality_group</th>\n",
       "      <th>quantity</th>\n",
       "      <th>source</th>\n",
       "      <th>source_class</th>\n",
       "      <th>waterpoint_type</th>\n",
       "      <th>year_recorded</th>\n",
       "      <th>date_recordedMonth</th>\n",
       "      <th>date_recordedElapsed</th>\n",
       "      <th>population_log</th>\n",
       "      <th>age</th>\n",
       "    </tr>\n",
       "  </thead>\n",
       "  <tbody>\n",
       "    <tr>\n",
       "      <th>25493</th>\n",
       "      <td>25493</td>\n",
       "      <td>1136.000000</td>\n",
       "      <td>37.04</td>\n",
       "      <td>-3.276494</td>\n",
       "      <td>0</td>\n",
       "      <td>2</td>\n",
       "      <td>1</td>\n",
       "      <td>5</td>\n",
       "      <td>2003.0</td>\n",
       "      <td>0</td>\n",
       "      <td>...</td>\n",
       "      <td>0</td>\n",
       "      <td>0</td>\n",
       "      <td>0</td>\n",
       "      <td>0</td>\n",
       "      <td>0</td>\n",
       "      <td>2013</td>\n",
       "      <td>3</td>\n",
       "      <td>810</td>\n",
       "      <td>0.693147</td>\n",
       "      <td>10.0</td>\n",
       "    </tr>\n",
       "    <tr>\n",
       "      <th>44782</th>\n",
       "      <td>44782</td>\n",
       "      <td>1501.181818</td>\n",
       "      <td>33.82</td>\n",
       "      <td>-3.430348</td>\n",
       "      <td>0</td>\n",
       "      <td>4</td>\n",
       "      <td>1</td>\n",
       "      <td>0</td>\n",
       "      <td>2004.0</td>\n",
       "      <td>2</td>\n",
       "      <td>...</td>\n",
       "      <td>0</td>\n",
       "      <td>2</td>\n",
       "      <td>5</td>\n",
       "      <td>0</td>\n",
       "      <td>2</td>\n",
       "      <td>2012</td>\n",
       "      <td>10</td>\n",
       "      <td>655</td>\n",
       "      <td>0.693147</td>\n",
       "      <td>8.0</td>\n",
       "    </tr>\n",
       "    <tr>\n",
       "      <th>34208</th>\n",
       "      <td>34208</td>\n",
       "      <td>197.000000</td>\n",
       "      <td>39.85</td>\n",
       "      <td>-10.642394</td>\n",
       "      <td>0</td>\n",
       "      <td>3</td>\n",
       "      <td>1</td>\n",
       "      <td>0</td>\n",
       "      <td>2012.0</td>\n",
       "      <td>7</td>\n",
       "      <td>...</td>\n",
       "      <td>1</td>\n",
       "      <td>0</td>\n",
       "      <td>3</td>\n",
       "      <td>0</td>\n",
       "      <td>1</td>\n",
       "      <td>2013</td>\n",
       "      <td>2</td>\n",
       "      <td>779</td>\n",
       "      <td>6.042633</td>\n",
       "      <td>1.0</td>\n",
       "    </tr>\n",
       "    <tr>\n",
       "      <th>32624</th>\n",
       "      <td>32624</td>\n",
       "      <td>1969.000000</td>\n",
       "      <td>34.24</td>\n",
       "      <td>-9.367719</td>\n",
       "      <td>0</td>\n",
       "      <td>0</td>\n",
       "      <td>1</td>\n",
       "      <td>0</td>\n",
       "      <td>2000.0</td>\n",
       "      <td>0</td>\n",
       "      <td>...</td>\n",
       "      <td>0</td>\n",
       "      <td>0</td>\n",
       "      <td>0</td>\n",
       "      <td>0</td>\n",
       "      <td>0</td>\n",
       "      <td>2011</td>\n",
       "      <td>2</td>\n",
       "      <td>54</td>\n",
       "      <td>5.017280</td>\n",
       "      <td>11.0</td>\n",
       "    </tr>\n",
       "    <tr>\n",
       "      <th>15806</th>\n",
       "      <td>15806</td>\n",
       "      <td>259.000000</td>\n",
       "      <td>36.93</td>\n",
       "      <td>-7.726233</td>\n",
       "      <td>0</td>\n",
       "      <td>7</td>\n",
       "      <td>1</td>\n",
       "      <td>8</td>\n",
       "      <td>2007.0</td>\n",
       "      <td>0</td>\n",
       "      <td>...</td>\n",
       "      <td>0</td>\n",
       "      <td>1</td>\n",
       "      <td>6</td>\n",
       "      <td>1</td>\n",
       "      <td>0</td>\n",
       "      <td>2011</td>\n",
       "      <td>3</td>\n",
       "      <td>66</td>\n",
       "      <td>5.303305</td>\n",
       "      <td>4.0</td>\n",
       "    </tr>\n",
       "  </tbody>\n",
       "</table>\n",
       "<p>5 rows × 26 columns</p>\n",
       "</div>"
      ],
      "text/plain": [
       "       Unnamed: 0   gps_height  longitude   latitude  num_private  basin  \\\n",
       "25493       25493  1136.000000      37.04  -3.276494            0      2   \n",
       "44782       44782  1501.181818      33.82  -3.430348            0      4   \n",
       "34208       34208   197.000000      39.85 -10.642394            0      3   \n",
       "32624       32624  1969.000000      34.24  -9.367719            0      0   \n",
       "15806       15806   259.000000      36.93  -7.726233            0      7   \n",
       "\n",
       "       public_meeting  scheme_management  construction_year  extraction_type  \\\n",
       "25493               1                  5             2003.0                0   \n",
       "44782               1                  0             2004.0                2   \n",
       "34208               1                  0             2012.0                7   \n",
       "32624               1                  0             2000.0                0   \n",
       "15806               1                  8             2007.0                0   \n",
       "\n",
       "       ...  quality_group  quantity  source  source_class  waterpoint_type  \\\n",
       "25493  ...              0         0       0             0                0   \n",
       "44782  ...              0         2       5             0                2   \n",
       "34208  ...              1         0       3             0                1   \n",
       "32624  ...              0         0       0             0                0   \n",
       "15806  ...              0         1       6             1                0   \n",
       "\n",
       "       year_recorded  date_recordedMonth  date_recordedElapsed  \\\n",
       "25493           2013                   3                   810   \n",
       "44782           2012                  10                   655   \n",
       "34208           2013                   2                   779   \n",
       "32624           2011                   2                    54   \n",
       "15806           2011                   3                    66   \n",
       "\n",
       "       population_log   age  \n",
       "25493        0.693147  10.0  \n",
       "44782        0.693147   8.0  \n",
       "34208        6.042633   1.0  \n",
       "32624        5.017280  11.0  \n",
       "15806        5.303305   4.0  \n",
       "\n",
       "[5 rows x 26 columns]"
      ]
     },
     "execution_count": 78,
     "metadata": {},
     "output_type": "execute_result"
    }
   ],
   "source": [
    "xtrain.head()"
   ]
  },
  {
   "cell_type": "markdown",
   "metadata": {},
   "source": [
    "# Feature Selection"
   ]
  },
  {
   "cell_type": "code",
   "execution_count": 79,
   "metadata": {},
   "outputs": [],
   "source": [
    "#I ran the feature selection apriori since it's easier to remove things from a panda array than a np matrix \n",
    "\n",
    "#x_train.drop(['year_recorded','source_class','date_recordedMonth','public_meeting','basin','payment_type','water_quality'], axis = 1, inplace = True)\n",
    "#x_test.drop(['year_recorded','source_class','date_recordedMonth','public_meeting','basin','payment_type','water_quality'], axis = 1, inplace = True)"
   ]
  },
  {
   "cell_type": "code",
   "execution_count": 80,
   "metadata": {},
   "outputs": [],
   "source": [
    "xtrain, xvalid, ytrain, yvalid = train_test_split(x_train, y_num, test_size=0.2)\n",
    "ytrain.drop('id', axis = 1, inplace = True)\n",
    "yvalid.drop('id', axis = 1, inplace = True)\n",
    "xtrain.drop('Unnamed: 0', axis = 1, inplace = True)\n",
    "xvalid.drop('Unnamed: 0', axis = 1, inplace = True)\n",
    "scaler = StandardScaler()\n",
    "feature_list = xtrain.columns\n",
    "\n",
    "xtrain_FS = xtrain\n",
    "xvalid_FS = xvalid\n",
    "\n",
    "xtrain_PCA = xtrain\n",
    "xvalid_PCA = xvalid\n",
    "\n",
    "# Fit on training set only.\n",
    "scaler.fit(xtrain)\n",
    "\n",
    "# Apply transform to both the training set and the test set.\n",
    "xtrain = scaler.transform(xtrain)\n",
    "xvalid = scaler.transform(xvalid)\n"
   ]
  },
  {
   "cell_type": "code",
   "execution_count": 81,
   "metadata": {},
   "outputs": [
    {
     "name": "stdout",
     "output_type": "stream",
     "text": [
      "Training accuracy:  0.9822390572390572\n",
      "Validation accuracy:  0.7933501683501684\n"
     ]
    },
    {
     "data": {
      "image/png": "[encoded data removed]",
      "text/plain": [
       "<Figure size 1512x1008 with 1 Axes>"
      ]
     },
     "metadata": {
      "needs_background": "light"
     },
     "output_type": "display_data"
    }
   ],
   "source": [
    "rf = RandomForestClassifier(max_depth=100).fit(xtrain,ytrain)\n",
    "pred2 = rf.predict(xvalid)\n",
    "\n",
    "print('Training accuracy: ', accuracy_score(ytrain, rf.predict(xtrain)))\n",
    "print('Validation accuracy: ', accuracy_score(yvalid, pred2))\n",
    "# Get numerical feature importances\n",
    "importances = list(rf.feature_importances_)\n",
    "\n",
    "# List of tuples with variable and importance\n",
    "feature_importances = [(feature, round(importance, 2)) for feature, importance in zip(feature_list, importances)]\n",
    "\n",
    "# Sort the feature importances by most important first\n",
    "feature_importances = sorted(feature_importances, key = lambda x: x[1], reverse = True)\n",
    "\n",
    "# list of x locations for plotting\n",
    "x_values = list(range(len(importances)))\n",
    "\n",
    "# List of features sorted from most to least important\n",
    "sorted_importances = [importance[1] for importance in feature_importances]\n",
    "sorted_features = [importance[0] for importance in feature_importances]\n",
    "\n",
    "# Cumulative importances\n",
    "cumulative_importances = np.cumsum(sorted_importances)\n",
    "\n",
    "# Make a line graph\n",
    "plt.figure(figsize=(21,14))\n",
    "plt.plot(x_values, cumulative_importances, 'g-')\n",
    "\n",
    "# Draw line at 95% of importance retained\n",
    "plt.hlines(y = 0.95, xmin=0, xmax=len(sorted_importances), color = 'r', linestyles = 'dashed')\n",
    "\n",
    "# Format x ticks and labels\n",
    "plt.xticks(x_values, sorted_features, rotation = 'vertical')\n",
    "\n",
    "# Axis labels and title\n",
    "plt.xlabel('Variable'); plt.ylabel('Cumulative Importance'); plt.title('Cumulative Importances');\n",
    "\n",
    "plt.show()\n",
    "\n",
    "#this plot is no longer relevant since its using already reduced features"
   ]
  },
  {
   "cell_type": "code",
   "execution_count": 82,
   "metadata": {},
   "outputs": [],
   "source": [
    "xvalid_FS.drop(['date_recordedMonth','public_meeting','water_quality','quality_group','source_class','year_recorded','num_private'], axis = 1, inplace = True)\n",
    "xtrain_FS.drop(['year_recorded','source_class','date_recordedMonth','public_meeting','water_quality','quality_group','num_private'], axis = 1, inplace = True)"
   ]
  },
  {
   "cell_type": "markdown",
   "metadata": {},
   "source": [
    "# PCA"
   ]
  },
  {
   "cell_type": "code",
   "execution_count": 83,
   "metadata": {},
   "outputs": [
    {
     "data": {
      "image/png": "[encoded data removed]",
      "text/plain": [
       "<Figure size 1512x1008 with 1 Axes>"
      ]
     },
     "metadata": {
      "needs_background": "light"
     },
     "output_type": "display_data"
    }
   ],
   "source": [
    "scaler = StandardScaler()\n",
    "\n",
    "# Fit on training set only.\n",
    "scaler.fit(xtrain)\n",
    "\n",
    "# Apply transform to both the training set and the test set.\n",
    "#xtrain = scaler.transform(xtrain)\n",
    "#xvalid = scaler.transform(xvalid)\n",
    "\n",
    "#Fitting the PCA algorithm with our Data\n",
    "pca1 = PCA().fit(xtrain)\n",
    "\n",
    "#Plotting the Cumulative Summation of the Explained Variance\n",
    "\n",
    "plt.figure(figsize=(21,14))\n",
    "plt.plot(np.cumsum(pca1.explained_variance_ratio_))\n",
    "plt.hlines(y = 0.95, xmin=0, xmax= 25,color = 'r', linestyles = 'dashed')\n",
    "\n",
    "plt.xlabel('Number of Components')\n",
    "plt.ylabel('Variance (%)') #for each component\n",
    "plt.title('Pulsar Dataset Explained Variance')\n",
    "\n",
    "plt.show()"
   ]
  },
  {
   "cell_type": "code",
   "execution_count": 84,
   "metadata": {},
   "outputs": [
    {
     "name": "stdout",
     "output_type": "stream",
     "text": [
      "[0.15305177 0.10596362 0.09107611 0.08626898 0.07448395 0.07155512\n",
      " 0.06461371 0.05169698 0.04067502 0.03900887 0.03643511 0.03492581\n",
      " 0.03237398 0.02737774 0.02267873]\n"
     ]
    }
   ],
   "source": [
    "#fit model with optimal components (90% variance kept)\n",
    "pca = PCA(n_components= 15)\n",
    "pca.fit(xtrain) \n",
    "\n",
    "PCA(copy=True, iterated_power='auto', n_components=10, random_state=None,\n",
    "  svd_solver='auto', tol=0.0, whiten=False)\n",
    "print(pca.explained_variance_ratio_)  \n",
    "\n",
    "xvalid_PCA = pca.transform(xvalid)\n",
    "xtrain_PCA = pca.transform(xtrain)\n",
    "#x_test_PCA = pca.transform(x_test)"
   ]
  },
  {
   "cell_type": "markdown",
   "metadata": {},
   "source": [
    "# Decision Tree Classifier"
   ]
  },
  {
   "cell_type": "code",
   "execution_count": 85,
   "metadata": {},
   "outputs": [],
   "source": [
    "#with PCA\n",
    "dtc_PCA = DecisionTreeClassifier(max_depth=5).fit(xtrain_PCA, ytrain)\n",
    "pred1_PCA = dtc_PCA.predict(xvalid_PCA)"
   ]
  },
  {
   "cell_type": "code",
   "execution_count": 86,
   "metadata": {},
   "outputs": [
    {
     "name": "stdout",
     "output_type": "stream",
     "text": [
      "Training accuracy:  0.6798190235690236\n",
      "Validation accuracy:  0.6759259259259259\n"
     ]
    }
   ],
   "source": [
    "print('Training accuracy: ', accuracy_score(ytrain, dtc_PCA.predict(xtrain_PCA)))\n",
    "print('Validation accuracy: ', accuracy_score(yvalid, pred1_PCA))"
   ]
  },
  {
   "cell_type": "code",
   "execution_count": 88,
   "metadata": {},
   "outputs": [
    {
     "name": "stdout",
     "output_type": "stream",
     "text": [
      "                         precision    recall  f1-score   support\n",
      "\n",
      "             functional      0.660     0.887     0.757      6526\n",
      "         non functional      0.721     0.496     0.588      4509\n",
      "functional needs repair      0.667     0.007     0.014       845\n",
      "\n",
      "               accuracy                          0.676     11880\n",
      "              macro avg      0.683     0.463     0.453     11880\n",
      "           weighted avg      0.684     0.676     0.640     11880\n",
      "\n"
     ]
    }
   ],
   "source": [
    "\n",
    "pc1 = metrics.classification_report(yvalid, pred1_PCA, labels=[0,1,2], target_names=['functional','non functional', 'functional needs repair'], sample_weight=None, digits=3, output_dict=True)\n",
    "print(metrics.classification_report(yvalid, pred1_PCA, labels=[0,1,2], target_names=['functional','non functional', 'functional needs repair'], sample_weight=None, digits=3, output_dict=False))"
   ]
  },
  {
   "cell_type": "code",
   "execution_count": 90,
   "metadata": {},
   "outputs": [],
   "source": [
    "#with FS\n",
    "dtc_FS = DecisionTreeClassifier(max_depth=5).fit(xtrain_FS, ytrain)\n",
    "pred1_FS = dtc_FS.predict(xvalid_FS)"
   ]
  },
  {
   "cell_type": "code",
   "execution_count": 91,
   "metadata": {},
   "outputs": [
    {
     "name": "stdout",
     "output_type": "stream",
     "text": [
      "Training accuracy:  0.7065656565656566\n",
      "Validation accuracy:  0.7142255892255892\n"
     ]
    }
   ],
   "source": [
    "print('Training accuracy: ', accuracy_score(ytrain, dtc_FS.predict(xtrain_FS)))\n",
    "print('Validation accuracy: ', accuracy_score(yvalid, pred1_FS))"
   ]
  },
  {
   "cell_type": "code",
   "execution_count": 92,
   "metadata": {},
   "outputs": [
    {
     "name": "stdout",
     "output_type": "stream",
     "text": [
      "                         precision    recall  f1-score   support\n",
      "\n",
      "             functional      0.666     0.973     0.791      6526\n",
      "         non functional      0.910     0.473     0.622      4509\n",
      "functional needs repair      0.000     0.000     0.000       845\n",
      "\n",
      "               accuracy                          0.714     11880\n",
      "              macro avg      0.525     0.482     0.471     11880\n",
      "           weighted avg      0.711     0.714     0.671     11880\n",
      "\n"
     ]
    }
   ],
   "source": [
    "\n",
    "fs1 = metrics.classification_report(yvalid, pred1_FS, labels=[0,1,2], target_names=['functional','non functional', 'functional needs repair'], sample_weight=None, digits=3, output_dict=True)\n",
    "print(metrics.classification_report(yvalid, pred1_FS, labels=[0,1,2], target_names=['functional','non functional', 'functional needs repair'], sample_weight=None, digits=3, output_dict=False))"
   ]
  },
  {
   "cell_type": "markdown",
   "metadata": {},
   "source": [
    "# Random Forest Classifier"
   ]
  },
  {
   "cell_type": "code",
   "execution_count": 93,
   "metadata": {},
   "outputs": [],
   "source": [
    "rf_PCA = RandomForestClassifier(max_depth=100).fit(xtrain_PCA,ytrain)\n",
    "pred2_PCA = rf_PCA.predict(xvalid_PCA)"
   ]
  },
  {
   "cell_type": "code",
   "execution_count": 94,
   "metadata": {},
   "outputs": [
    {
     "name": "stdout",
     "output_type": "stream",
     "text": [
      "Training accuracy:  0.9809974747474748\n",
      "Validation accuracy:  0.7678451178451179\n"
     ]
    }
   ],
   "source": [
    "print('Training accuracy: ', accuracy_score(ytrain, rf_PCA.predict(xtrain_PCA)))\n",
    "print('Validation accuracy: ', accuracy_score(yvalid, pred2_PCA))"
   ]
  },
  {
   "cell_type": "code",
   "execution_count": 100,
   "metadata": {},
   "outputs": [
    {
     "name": "stdout",
     "output_type": "stream",
     "text": [
      "                         precision    recall  f1-score   support\n",
      "\n",
      "             functional      0.780     0.850     0.814      6526\n",
      "         non functional      0.783     0.741     0.761      4509\n",
      "functional needs repair      0.467     0.282     0.351       845\n",
      "\n",
      "               accuracy                          0.768     11880\n",
      "              macro avg      0.677     0.624     0.642     11880\n",
      "           weighted avg      0.759     0.768     0.761     11880\n",
      "\n"
     ]
    }
   ],
   "source": [
    "\n",
    "pc2 = metrics.classification_report(yvalid, pred2_PCA, labels=[0,1,2], target_names=['functional','non functional', 'functional needs repair'], sample_weight=None, digits=3, output_dict=True)\n",
    "print(metrics.classification_report(yvalid, pred2_PCA, labels=[0,1,2], target_names=['functional','non functional', 'functional needs repair'], sample_weight=None, digits=3, output_dict=False))"
   ]
  },
  {
   "cell_type": "code",
   "execution_count": 101,
   "metadata": {},
   "outputs": [
    {
     "name": "stdout",
     "output_type": "stream",
     "text": [
      "Training accuracy:  0.981712962962963\n",
      "Validation accuracy:  0.7902356902356902\n"
     ]
    }
   ],
   "source": [
    "rf_FS = RandomForestClassifier(max_depth=100).fit(xtrain_FS,ytrain)\n",
    "pred2_FS = rf_FS.predict(xvalid_FS)\n",
    "\n",
    "print('Training accuracy: ', accuracy_score(ytrain, rf_FS.predict(xtrain_FS)))\n",
    "print('Validation accuracy: ', accuracy_score(yvalid, pred2_FS))"
   ]
  },
  {
   "cell_type": "code",
   "execution_count": 102,
   "metadata": {},
   "outputs": [
    {
     "name": "stdout",
     "output_type": "stream",
     "text": [
      "                         precision    recall  f1-score   support\n",
      "\n",
      "             functional      0.796     0.871     0.832      6526\n",
      "         non functional      0.818     0.765     0.791      4509\n",
      "functional needs repair      0.484     0.301     0.371       845\n",
      "\n",
      "               accuracy                          0.790     11880\n",
      "              macro avg      0.699     0.646     0.665     11880\n",
      "           weighted avg      0.782     0.790     0.784     11880\n",
      "\n"
     ]
    }
   ],
   "source": [
    "\n",
    "fs2 = metrics.classification_report(yvalid, pred2_FS, labels=[0,1,2], target_names=['functional','non functional', 'functional needs repair'], sample_weight=None, digits=3, output_dict=True)\n",
    "print(metrics.classification_report(yvalid, pred2_FS, labels=[0,1,2], target_names=['functional','non functional', 'functional needs repair'], sample_weight=None, digits=3, output_dict=False))"
   ]
  },
  {
   "cell_type": "markdown",
   "metadata": {},
   "source": [
    "# Support Vector Machine"
   ]
  },
  {
   "cell_type": "code",
   "execution_count": 103,
   "metadata": {},
   "outputs": [],
   "source": [
    "svm = SVC().fit(xtrain_PCA,ytrain)\n",
    "pred3 = svm.predict(xvalid_PCA)"
   ]
  },
  {
   "cell_type": "code",
   "execution_count": 104,
   "metadata": {},
   "outputs": [
    {
     "name": "stdout",
     "output_type": "stream",
     "text": [
      "Training accuracy:  0.7586279461279462\n",
      "Validation accuracy:  0.7446127946127946\n"
     ]
    }
   ],
   "source": [
    "print('Training accuracy: ', accuracy_score(ytrain, svm.predict(xtrain_PCA)))\n",
    "print('Validation accuracy: ', accuracy_score(yvalid, pred3))"
   ]
  },
  {
   "cell_type": "code",
   "execution_count": 105,
   "metadata": {},
   "outputs": [
    {
     "name": "stdout",
     "output_type": "stream",
     "text": [
      "                         precision    recall  f1-score   support\n",
      "\n",
      "             functional      0.725     0.904     0.804      6526\n",
      "         non functional      0.794     0.640     0.709      4509\n",
      "functional needs repair      0.583     0.075     0.132       845\n",
      "\n",
      "               accuracy                          0.745     11880\n",
      "              macro avg      0.701     0.539     0.548     11880\n",
      "           weighted avg      0.741     0.745     0.720     11880\n",
      "\n"
     ]
    }
   ],
   "source": [
    "\n",
    "pc3 = metrics.classification_report(yvalid, pred3, labels=[0,1,2], target_names=['functional','non functional', 'functional needs repair'], sample_weight=None, digits=3, output_dict=True)\n",
    "print(metrics.classification_report(yvalid, pred3, labels=[0,1,2], target_names=['functional','non functional', 'functional needs repair'], sample_weight=None, digits=3, output_dict=False))"
   ]
  },
  {
   "cell_type": "code",
   "execution_count": 106,
   "metadata": {},
   "outputs": [],
   "source": [
    "svm = SVC().fit(xtrain_FS,ytrain)\n",
    "pred3 = svm.predict(xvalid_FS)"
   ]
  },
  {
   "cell_type": "code",
   "execution_count": 107,
   "metadata": {},
   "outputs": [
    {
     "name": "stdout",
     "output_type": "stream",
     "text": [
      "Training accuracy:  0.9191077441077441\n",
      "Validation accuracy:  0.6823232323232323\n"
     ]
    }
   ],
   "source": [
    "print('Training accuracy: ', accuracy_score(ytrain, svm.predict(xtrain_FS)))\n",
    "print('Validation accuracy: ', accuracy_score(yvalid, pred3))"
   ]
  },
  {
   "cell_type": "code",
   "execution_count": 108,
   "metadata": {},
   "outputs": [
    {
     "name": "stdout",
     "output_type": "stream",
     "text": [
      "                         precision    recall  f1-score   support\n",
      "\n",
      "             functional      0.667     0.890     0.763      6526\n",
      "         non functional      0.742     0.480     0.583      4509\n",
      "functional needs repair      0.517     0.159     0.243       845\n",
      "\n",
      "               accuracy                          0.682     11880\n",
      "              macro avg      0.642     0.509     0.529     11880\n",
      "           weighted avg      0.685     0.682     0.657     11880\n",
      "\n"
     ]
    }
   ],
   "source": [
    "\n",
    "fs3 = metrics.classification_report(yvalid, pred3, labels=[0,1,2], target_names=['functional','non functional', 'functional needs repair'], sample_weight=None, digits=3, output_dict=True)\n",
    "print(metrics.classification_report(yvalid, pred3, labels=[0,1,2], target_names=['functional','non functional', 'functional needs repair'], sample_weight=None, digits=3, output_dict=False))"
   ]
  },
  {
   "cell_type": "markdown",
   "metadata": {},
   "source": [
    "# SGD"
   ]
  },
  {
   "cell_type": "code",
   "execution_count": 109,
   "metadata": {},
   "outputs": [],
   "source": [
    "xtrain, xvalid = xtrain_FS, xvalid_FS"
   ]
  },
  {
   "cell_type": "code",
   "execution_count": 110,
   "metadata": {},
   "outputs": [],
   "source": [
    "sgd = SGDClassifier(loss=\"hinge\", penalty=\"l2\").fit(xtrain,ytrain)\n",
    "pred4 = sgd.predict(xvalid)"
   ]
  },
  {
   "cell_type": "code",
   "execution_count": 111,
   "metadata": {},
   "outputs": [
    {
     "name": "stdout",
     "output_type": "stream",
     "text": [
      "Training accuracy:  0.569486531986532\n",
      "Validation accuracy:  0.5743265993265994\n"
     ]
    }
   ],
   "source": [
    "print('Training accuracy: ', accuracy_score(ytrain, sgd.predict(xtrain)))\n",
    "print('Validation accuracy: ', accuracy_score(yvalid, pred4))"
   ]
  },
  {
   "cell_type": "code",
   "execution_count": 112,
   "metadata": {},
   "outputs": [
    {
     "name": "stdout",
     "output_type": "stream",
     "text": [
      "                         precision    recall  f1-score   support\n",
      "\n",
      "             functional      0.578     0.951     0.719      6526\n",
      "         non functional      0.785     0.127     0.219      4509\n",
      "functional needs repair      0.097     0.047     0.064       845\n",
      "\n",
      "               accuracy                          0.574     11880\n",
      "              macro avg      0.487     0.375     0.334     11880\n",
      "           weighted avg      0.623     0.574     0.483     11880\n",
      "\n"
     ]
    }
   ],
   "source": [
    "\n",
    "fs4 = metrics.classification_report(yvalid, pred4, labels=[0,1,2], target_names=['functional','non functional', 'functional needs repair'], sample_weight=None, digits=3, output_dict=True)\n",
    "print(metrics.classification_report(yvalid, pred4, labels=[0,1,2], target_names=['functional','non functional', 'functional needs repair'], sample_weight=None, digits=3, output_dict=False))"
   ]
  },
  {
   "cell_type": "code",
   "execution_count": 113,
   "metadata": {},
   "outputs": [],
   "source": [
    "xtrain, xvalid = xtrain_PCA, xvalid_PCA"
   ]
  },
  {
   "cell_type": "code",
   "execution_count": 114,
   "metadata": {},
   "outputs": [],
   "source": [
    "sgd = SGDClassifier(loss=\"hinge\", penalty=\"l2\").fit(xtrain,ytrain)\n",
    "pred4 = sgd.predict(xvalid)"
   ]
  },
  {
   "cell_type": "code",
   "execution_count": 115,
   "metadata": {},
   "outputs": [
    {
     "name": "stdout",
     "output_type": "stream",
     "text": [
      "Training accuracy:  0.6334806397306397\n",
      "Validation accuracy:  0.6364478114478115\n"
     ]
    }
   ],
   "source": [
    "print('Training accuracy: ', accuracy_score(ytrain, sgd.predict(xtrain)))\n",
    "print('Validation accuracy: ', accuracy_score(yvalid, pred4))"
   ]
  },
  {
   "cell_type": "code",
   "execution_count": 116,
   "metadata": {},
   "outputs": [
    {
     "name": "stdout",
     "output_type": "stream",
     "text": [
      "                         precision    recall  f1-score   support\n",
      "\n",
      "             functional      0.657     0.779     0.713      6526\n",
      "         non functional      0.598     0.550     0.573      4509\n",
      "functional needs repair      0.000     0.000     0.000       845\n",
      "\n",
      "               accuracy                          0.636     11880\n",
      "              macro avg      0.418     0.443     0.429     11880\n",
      "           weighted avg      0.588     0.636     0.609     11880\n",
      "\n"
     ]
    }
   ],
   "source": [
    "\n",
    "pc4 = metrics.classification_report(yvalid, pred4, labels=[0,1,2], target_names=['functional','non functional', 'functional needs repair'], sample_weight=None, digits=3, output_dict=True)\n",
    "print(metrics.classification_report(yvalid, pred4, labels=[0,1,2], target_names=['functional','non functional', 'functional needs repair'], sample_weight=None, digits=3, output_dict=False))"
   ]
  },
  {
   "cell_type": "markdown",
   "metadata": {},
   "source": [
    "# KNN"
   ]
  },
  {
   "cell_type": "code",
   "execution_count": 117,
   "metadata": {},
   "outputs": [],
   "source": [
    "xtrain, xvalid = xtrain_FS, xvalid_FS"
   ]
  },
  {
   "cell_type": "code",
   "execution_count": 118,
   "metadata": {},
   "outputs": [],
   "source": [
    "knn = KNeighborsClassifier(n_neighbors=7).fit(xtrain,ytrain)\n",
    "pred5 = knn.predict(xvalid)"
   ]
  },
  {
   "cell_type": "code",
   "execution_count": 119,
   "metadata": {},
   "outputs": [
    {
     "name": "stdout",
     "output_type": "stream",
     "text": [
      "Training accuracy:  0.7516624579124579\n",
      "Validation accuracy:  0.6777777777777778\n"
     ]
    }
   ],
   "source": [
    "print('Training accuracy: ', accuracy_score(ytrain, knn.predict(xtrain)))\n",
    "print('Validation accuracy: ', accuracy_score(yvalid, pred5))"
   ]
  },
  {
   "cell_type": "code",
   "execution_count": 120,
   "metadata": {},
   "outputs": [
    {
     "name": "stdout",
     "output_type": "stream",
     "text": [
      "                         precision    recall  f1-score   support\n",
      "\n",
      "             functional      0.698     0.801     0.746      6526\n",
      "         non functional      0.664     0.591     0.625      4509\n",
      "functional needs repair      0.420     0.188     0.260       845\n",
      "\n",
      "               accuracy                          0.678     11880\n",
      "              macro avg      0.594     0.527     0.544     11880\n",
      "           weighted avg      0.665     0.678     0.666     11880\n",
      "\n"
     ]
    }
   ],
   "source": [
    "\n",
    "fs5 = metrics.classification_report(yvalid, pred5, labels=[0,1,2], target_names=['functional','non functional', 'functional needs repair'], sample_weight=None, digits=3, output_dict=True)\n",
    "print(metrics.classification_report(yvalid, pred5, labels=[0,1,2], target_names=['functional','non functional', 'functional needs repair'], sample_weight=None, digits=3, output_dict=False))"
   ]
  },
  {
   "cell_type": "code",
   "execution_count": 121,
   "metadata": {},
   "outputs": [],
   "source": [
    "xtrain, xvalid = xtrain_PCA, xvalid_PCA"
   ]
  },
  {
   "cell_type": "code",
   "execution_count": 122,
   "metadata": {},
   "outputs": [],
   "source": [
    "knn = KNeighborsClassifier(n_neighbors=7).fit(xtrain,ytrain)\n",
    "pred5 = knn.predict(xvalid)"
   ]
  },
  {
   "cell_type": "code",
   "execution_count": 123,
   "metadata": {},
   "outputs": [
    {
     "name": "stdout",
     "output_type": "stream",
     "text": [
      "Training accuracy:  0.8098274410774411\n",
      "Validation accuracy:  0.7567340067340067\n"
     ]
    }
   ],
   "source": [
    "print('Training accuracy: ', accuracy_score(ytrain, knn.predict(xtrain)))\n",
    "print('Validation accuracy: ', accuracy_score(yvalid, pred5))"
   ]
  },
  {
   "cell_type": "code",
   "execution_count": 124,
   "metadata": {},
   "outputs": [
    {
     "name": "stdout",
     "output_type": "stream",
     "text": [
      "                         precision    recall  f1-score   support\n",
      "\n",
      "             functional      0.764     0.859     0.809      6526\n",
      "         non functional      0.773     0.711     0.741      4509\n",
      "functional needs repair      0.454     0.211     0.288       845\n",
      "\n",
      "               accuracy                          0.757     11880\n",
      "              macro avg      0.664     0.594     0.612     11880\n",
      "           weighted avg      0.745     0.757     0.746     11880\n",
      "\n"
     ]
    }
   ],
   "source": [
    "\n",
    "pc5 = metrics.classification_report(yvalid, pred5, labels=[0,1,2], target_names=['functional','non functional', 'functional needs repair'], sample_weight=None, digits=3, output_dict=True)\n",
    "print(metrics.classification_report(yvalid, pred5, labels=[0,1,2], target_names=['functional','non functional', 'functional needs repair'], sample_weight=None, digits=3, output_dict=False))"
   ]
  },
  {
   "cell_type": "markdown",
   "metadata": {},
   "source": [
    "# Naive Bayes"
   ]
  },
  {
   "cell_type": "code",
   "execution_count": 125,
   "metadata": {},
   "outputs": [],
   "source": [
    "xtrain, xvalid = xtrain_FS, xvalid_FS"
   ]
  },
  {
   "cell_type": "code",
   "execution_count": 126,
   "metadata": {},
   "outputs": [],
   "source": [
    "gnb = GaussianNB().fit(xtrain,ytrain)\n",
    "pred6 = gnb.predict(xvalid)"
   ]
  },
  {
   "cell_type": "code",
   "execution_count": 127,
   "metadata": {},
   "outputs": [
    {
     "name": "stdout",
     "output_type": "stream",
     "text": [
      "Training accuracy:  0.609743265993266\n",
      "Validation accuracy:  0.6096801346801347\n"
     ]
    }
   ],
   "source": [
    "print('Training accuracy: ', accuracy_score(ytrain, gnb.predict(xtrain)))\n",
    "print('Validation accuracy: ', accuracy_score(yvalid, pred6))"
   ]
  },
  {
   "cell_type": "code",
   "execution_count": 128,
   "metadata": {},
   "outputs": [
    {
     "name": "stdout",
     "output_type": "stream",
     "text": [
      "                         precision    recall  f1-score   support\n",
      "\n",
      "             functional      0.671     0.684     0.677      6526\n",
      "         non functional      0.564     0.592     0.577      4509\n",
      "functional needs repair      0.226     0.134     0.168       845\n",
      "\n",
      "               accuracy                          0.610     11880\n",
      "              macro avg      0.487     0.470     0.474     11880\n",
      "           weighted avg      0.599     0.610     0.603     11880\n",
      "\n"
     ]
    }
   ],
   "source": [
    "\n",
    "fs6 = metrics.classification_report(yvalid, pred6, labels=[0,1,2], target_names=['functional','non functional', 'functional needs repair'], sample_weight=None, digits=3, output_dict=True)\n",
    "print(metrics.classification_report(yvalid, pred6, labels=[0,1,2], target_names=['functional','non functional', 'functional needs repair'], sample_weight=None, digits=3, output_dict=False))"
   ]
  },
  {
   "cell_type": "code",
   "execution_count": 129,
   "metadata": {},
   "outputs": [],
   "source": [
    "xtrain, xvalid = xtrain_PCA, xvalid_PCA"
   ]
  },
  {
   "cell_type": "code",
   "execution_count": 130,
   "metadata": {},
   "outputs": [],
   "source": [
    "gnb = GaussianNB().fit(xtrain,ytrain)\n",
    "pred6 = gnb.predict(xvalid)"
   ]
  },
  {
   "cell_type": "code",
   "execution_count": 131,
   "metadata": {},
   "outputs": [
    {
     "name": "stdout",
     "output_type": "stream",
     "text": [
      "Training accuracy:  0.6158459595959596\n",
      "Validation accuracy:  0.6196969696969697\n"
     ]
    }
   ],
   "source": [
    "print('Training accuracy: ', accuracy_score(ytrain, gnb.predict(xtrain)))\n",
    "print('Validation accuracy: ', accuracy_score(yvalid, pred6))"
   ]
  },
  {
   "cell_type": "code",
   "execution_count": 132,
   "metadata": {},
   "outputs": [
    {
     "name": "stdout",
     "output_type": "stream",
     "text": [
      "                         precision    recall  f1-score   support\n",
      "\n",
      "             functional      0.672     0.702     0.687      6526\n",
      "         non functional      0.560     0.607     0.582      4509\n",
      "functional needs repair      0.263     0.054     0.090       845\n",
      "\n",
      "               accuracy                          0.620     11880\n",
      "              macro avg      0.498     0.454     0.453     11880\n",
      "           weighted avg      0.600     0.620     0.605     11880\n",
      "\n"
     ]
    }
   ],
   "source": [
    "\n",
    "pc6 =metrics.classification_report(yvalid, pred6, labels=[0,1,2], target_names=['functional','non functional', 'functional needs repair'], sample_weight=None, digits=3, output_dict=True)\n",
    "print(metrics.classification_report(yvalid, pred6, labels=[0,1,2], target_names=['functional','non functional', 'functional needs repair'], sample_weight=None, digits=3, output_dict=False))"
   ]
  },
  {
   "cell_type": "markdown",
   "metadata": {},
   "source": [
    "# Neural Network"
   ]
  },
  {
   "cell_type": "code",
   "execution_count": 133,
   "metadata": {},
   "outputs": [],
   "source": [
    "xtrain, xvalid = xtrain_FS, xvalid_FS"
   ]
  },
  {
   "cell_type": "code",
   "execution_count": 134,
   "metadata": {},
   "outputs": [],
   "source": [
    "mlp = MLPClassifier().fit(xtrain,ytrain)\n",
    "pred7 = mlp.predict(xvalid)"
   ]
  },
  {
   "cell_type": "code",
   "execution_count": 135,
   "metadata": {
    "scrolled": true
   },
   "outputs": [
    {
     "name": "stdout",
     "output_type": "stream",
     "text": [
      "Training accuracy:  0.4119318181818182\n",
      "Validation accuracy:  0.4047979797979798\n"
     ]
    }
   ],
   "source": [
    "print('Training accuracy: ', accuracy_score(ytrain, mlp.predict(xtrain)))\n",
    "print('Validation accuracy: ', accuracy_score(yvalid, pred7))"
   ]
  },
  {
   "cell_type": "code",
   "execution_count": 136,
   "metadata": {},
   "outputs": [
    {
     "name": "stdout",
     "output_type": "stream",
     "text": [
      "                         precision    recall  f1-score   support\n",
      "\n",
      "             functional      0.774     0.182     0.295      6526\n",
      "         non functional      0.468     0.712     0.565      4509\n",
      "functional needs repair      0.117     0.485     0.189       845\n",
      "\n",
      "               accuracy                          0.405     11880\n",
      "              macro avg      0.453     0.460     0.350     11880\n",
      "           weighted avg      0.611     0.405     0.390     11880\n",
      "\n"
     ]
    }
   ],
   "source": [
    "\n",
    "fs7 =metrics.classification_report(yvalid, pred7, labels=[0,1,2], target_names=['functional','non functional', 'functional needs repair'], sample_weight=None, digits=3, output_dict=True)\n",
    "print(metrics.classification_report(yvalid, pred7, labels=[0,1,2], target_names=['functional','non functional', 'functional needs repair'], sample_weight=None, digits=3, output_dict=False))"
   ]
  },
  {
   "cell_type": "code",
   "execution_count": 137,
   "metadata": {},
   "outputs": [],
   "source": [
    "xtrain, xvalid = xtrain_PCA, xvalid_PCA"
   ]
  },
  {
   "cell_type": "code",
   "execution_count": 138,
   "metadata": {},
   "outputs": [],
   "source": [
    "mlp = MLPClassifier().fit(xtrain,ytrain)\n",
    "pred7 = mlp.predict(xvalid)"
   ]
  },
  {
   "cell_type": "code",
   "execution_count": 139,
   "metadata": {
    "scrolled": true
   },
   "outputs": [
    {
     "name": "stdout",
     "output_type": "stream",
     "text": [
      "Training accuracy:  0.7640782828282828\n",
      "Validation accuracy:  0.7422558922558923\n"
     ]
    }
   ],
   "source": [
    "print('Training accuracy: ', accuracy_score(ytrain, mlp.predict(xtrain)))\n",
    "print('Validation accuracy: ', accuracy_score(yvalid, pred7))"
   ]
  },
  {
   "cell_type": "code",
   "execution_count": 140,
   "metadata": {},
   "outputs": [
    {
     "name": "stdout",
     "output_type": "stream",
     "text": [
      "                         precision    recall  f1-score   support\n",
      "\n",
      "             functional      0.751     0.849     0.797      6526\n",
      "         non functional      0.742     0.704     0.722      4509\n",
      "functional needs repair      0.466     0.122     0.193       845\n",
      "\n",
      "               accuracy                          0.742     11880\n",
      "              macro avg      0.653     0.558     0.571     11880\n",
      "           weighted avg      0.727     0.742     0.726     11880\n",
      "\n"
     ]
    }
   ],
   "source": [
    "\n",
    "pc7 =metrics.classification_report(yvalid, pred7, labels=[0,1,2], target_names=['functional','non functional', 'functional needs repair'], sample_weight=None, digits=3, output_dict=True)\n",
    "print(metrics.classification_report(yvalid, pred7, labels=[0,1,2], target_names=['functional','non functional', 'functional needs repair'], sample_weight=None, digits=3, output_dict=False))"
   ]
  },
  {
   "cell_type": "markdown",
   "metadata": {},
   "source": [
    "# Extremely Randomized Trees"
   ]
  },
  {
   "cell_type": "code",
   "execution_count": null,
   "metadata": {
    "collapsed": true
   },
   "outputs": [],
   "source": [
    "xtrain, xvalid = xtrain_FS, xvalid_FS\n",
    "etc = ExtraTreesClassifier(n_estimators=300, \n",
    "                                min_samples_split=8,\n",
    "                                max_features='sqrt',\n",
    "                                max_depth=95)\n",
    "etc.fit(xtrain,ytrain)\n",
    "predetc = etc.predict(xvalid)\n"
   ]
  },
  {
   "cell_type": "code",
   "execution_count": null,
   "metadata": {
    "collapsed": true
   },
   "outputs": [],
   "source": [
    "print('Training accuracy: ', accuracy_score(ytrain, etc.predict(xtrain)))\n",
    "print('Validation accuracy: ', accuracy_score(yvalid, predetc))"
   ]
  },
  {
   "cell_type": "code",
   "execution_count": null,
   "metadata": {},
   "outputs": [],
   "source": [
    "\n",
    "metrics.classification_report(yvalid, predetc, labels=[0,1,2], target_names=['functional','non functional', 'functional needs repair'], sample_weight=None, digits=3, output_dict=True)\n",
    "print(metrics.classification_report(yvalid, predetc, labels=[0,1,2], target_names=['functional','non functional', 'functional needs repair'], sample_weight=None, digits=3, output_dict=False))"
   ]
  },
  {
   "cell_type": "markdown",
   "metadata": {},
   "source": [
    "# XGBoost"
   ]
  },
  {
   "cell_type": "code",
   "execution_count": null,
   "metadata": {
    "collapsed": true
   },
   "outputs": [],
   "source": [
    "xtrain, xvalid = xtrain_PCA, xvalid_PCA\n",
    "#TODO perform grid search to find best hyperparameters (this has potential)\n",
    "xgb = XGBClassifier(max_depth=9, n_estimators=300,\n",
    "       objective='multi:softmax') #can also use softprob for multiclass\n",
    "xgb.fit(xtrain,ytrain)\n",
    "trainxgb = xgb.predict(xtrain)\n",
    "predxgb = xgb.predict(xvalid)"
   ]
  },
  {
   "cell_type": "code",
   "execution_count": null,
   "metadata": {
    "collapsed": true
   },
   "outputs": [],
   "source": [
    "#ytrain.drop('id', axis = 1, inplace = True)\n",
    "#yvalid.drop('id', axis = 1, inplace = True)"
   ]
  },
  {
   "cell_type": "code",
   "execution_count": null,
   "metadata": {
    "collapsed": true
   },
   "outputs": [],
   "source": [
    "print('Training accuracy: ', accuracy_score(ytrain, trainxgb))\n",
    "print('Validation accuracy: ', accuracy_score(yvalid, predxgb))"
   ]
  },
  {
   "cell_type": "code",
   "execution_count": null,
   "metadata": {
    "collapsed": true
   },
   "outputs": [],
   "source": [
    "xtrain, xvalid = xtrain_FS, xvalid_FS\n",
    "#TODO perform grid search to find best hyperparameters (this has potential)\n",
    "xgb = XGBClassifier(max_depth=9, n_estimators=300,\n",
    "       objective='multi:softmax') #can also use softprob for multiclass\n",
    "xgb.fit(xtrain,ytrain)\n",
    "trainxgb = xgb.predict(xtrain)\n",
    "predxgb = xgb.predict(xvalid)\n",
    "print('Training accuracy: ', accuracy_score(ytrain, trainxgb))\n",
    "print('Validation accuracy: ', accuracy_score(yvalid, predxgb))"
   ]
  },
  {
   "cell_type": "markdown",
   "metadata": {},
   "source": [
    "## Vanilla Results"
   ]
  },
  {
   "cell_type": "code",
   "execution_count": 52,
   "metadata": {},
   "outputs": [
    {
     "data": {
      "image/png": "[encoded data removed]",
      "text/plain": [
       "<Figure size 1512x1008 with 1 Axes>"
      ]
     },
     "metadata": {
      "needs_background": "light"
     },
     "output_type": "display_data"
    },
    {
     "data": {
      "text/plain": [
       "<Figure size 1512x1008 with 0 Axes>"
      ]
     },
     "metadata": {},
     "output_type": "display_data"
    }
   ],
   "source": [
    "import numpy as np\n",
    "import matplotlib.pyplot as plt\n",
    "\n",
    "# data to plot\n",
    "n_groups = 8\n",
    "pca_val = (0.671885521886,0.757070707071,0.73367003367,0.598400673401,0.67803030303,0.61835016835, 0.737121212121, 0.7832\n",
    "          )\n",
    "fs_val = (0.700252525253,0.981755050505,0.676515151515,0.567255892256,0.67803030303,0.610858585859,0.540656565657,.8055)\n",
    "\n",
    "first_val= (0,0.7871212121212121,0.5353535353535354,0.5361111111111111,0.49595959595959593,0.6266835016835017,0.4535353535353535,0.801)\n",
    "\n",
    "\n",
    "# create plot\n",
    "\n",
    "fig, ax = plt.subplots(figsize=(21,14))\n",
    "index = np.arange(n_groups)\n",
    "bar_width = 0.25\n",
    "opacity = 0.8\n",
    "\n",
    "rects1 = plt.bar(index, pca_val, bar_width,\n",
    "alpha=opacity,\n",
    "color='b',\n",
    "label='PCA')\n",
    "\n",
    "rects2 = plt.bar(index + bar_width, fs_val, bar_width,\n",
    "alpha=opacity,\n",
    "color='g',\n",
    "label='FS')\n",
    "\n",
    "rects3 = plt.bar(index + 2*bar_width, first_val, bar_width,\n",
    "alpha=opacity,\n",
    "color='r',\n",
    "label='Clean')\n",
    "\n",
    "plt.xlabel('Data Selection')\n",
    "plt.ylabel('Accuracy')\n",
    "plt.title('Validation')\n",
    "plt.xticks(index + bar_width,  ('Tree','Forest','SVM',\"SGD\",'KNN','Naive Bayes',\"NN\",\"XGBoost\"))\n",
    "plt.legend()\n",
    "plt.figure(figsize=(21,14))\n",
    "plt.show()"
   ]
  },
  {
   "cell_type": "code",
   "execution_count": 53,
   "metadata": {},
   "outputs": [
    {
     "data": {
      "image/png": "[encoded data removed]",
      "text/plain": [
       "<Figure size 1512x1008 with 1 Axes>"
      ]
     },
     "metadata": {
      "needs_background": "light"
     },
     "output_type": "display_data"
    },
    {
     "data": {
      "text/plain": [
       "<Figure size 1512x1008 with 0 Axes>"
      ]
     },
     "metadata": {},
     "output_type": "display_data"
    }
   ],
   "source": [
    "import numpy as np\n",
    "import matplotlib.pyplot as plt\n",
    "\n",
    "# data to plot this is for training - to lazy to relabel stuff but changed data \n",
    "\n",
    "n_groups = 8\n",
    "pca_val = (0.681102693603,0.981334175084,0.759301346801,0.60281986532,0.752272727273, 0.623800505051,0.761784511785,0.929313)\n",
    "fs_val = (0.711195286195,0.784764309764,0.918434343434,0.572306397306,0.752272727273,0.610353535354,0.546506734007,0.9219 )\n",
    "\n",
    "first_val= (0,0.9840488215488216,1.0,0.54503367003367,0.6333122895622896,0.6289772727272728,0.4540824915824916,.9380)\n",
    "\n",
    "\n",
    "# create plot\n",
    "fig, ax = plt.subplots(figsize=(21,14))\n",
    "index = np.arange(n_groups)\n",
    "bar_width = 0.25\n",
    "opacity = 0.8\n",
    "\n",
    "rects1 = plt.bar(index, pca_val, bar_width,\n",
    "alpha=opacity,\n",
    "color='b',\n",
    "label='PCA')\n",
    "\n",
    "rects2 = plt.bar(index + bar_width, fs_val, bar_width,\n",
    "alpha=opacity,\n",
    "color='g',\n",
    "label='FS')\n",
    "\n",
    "rects3 = plt.bar(index + 2*bar_width, first_val, bar_width,\n",
    "alpha=opacity,\n",
    "color='r',\n",
    "label='Clean')\n",
    "\n",
    "plt.xlabel('Data Selection')\n",
    "plt.ylabel('Accuracy')\n",
    "plt.title('Training')\n",
    "plt.xticks(index + bar_width,  ('Tree','Forest','SVM',\"SGD\",'KNN','Naive Bayes',\"NN\",\"XgBoost\"))\n",
    "plt.legend()\n",
    "plt.figure(figsize=(21,14))\n",
    "plt.show()"
   ]
  },
  {
   "cell_type": "markdown",
   "metadata": {},
   "source": [
    "## Accuracy Comparison"
   ]
  },
  {
   "cell_type": "code",
   "execution_count": 143,
   "metadata": {},
   "outputs": [
    {
     "data": {
      "image/png": "[encoded data removed]",
      "text/plain": [
       "<Figure size 1512x1008 with 1 Axes>"
      ]
     },
     "metadata": {
      "needs_background": "light"
     },
     "output_type": "display_data"
    },
    {
     "data": {
      "text/plain": [
       "<Figure size 1512x1008 with 0 Axes>"
      ]
     },
     "metadata": {},
     "output_type": "display_data"
    }
   ],
   "source": [
    "pclist = [pc1,pc2,pc3,pc4,pc5,pc6,pc7]\n",
    "fslist = [fs1,fs2,fs3,fs4,fs5,fs6,fs7]\n",
    "\n",
    "pcpres = [item['functional needs repair']['precision'] for item in pclist]\n",
    "pcf = [item['functional needs repair']['f1-score'] for item in pclist]\n",
    "\n",
    "\n",
    "n_groups = 7\n",
    "\n",
    "fsp = [item['functional needs repair']['precision'] for item in fslist]\n",
    "fsf = [item['functional needs repair']['f1-score'] for item in fslist]\n",
    "fsr = [item['functional needs repair']['recall'] for item in fslist]\n",
    "\n",
    "# create plot\n",
    "fig, ax = plt.subplots(figsize=(21,14))\n",
    "index = np.arange(n_groups)\n",
    "bar_width = 0.25\n",
    "opacity = 0.8\n",
    "\n",
    "rects1 = plt.bar(index, fsp, bar_width,\n",
    "alpha=opacity,\n",
    "color='b',\n",
    "label='Precision')\n",
    "\n",
    "rects2 = plt.bar(index + bar_width, fsf, bar_width,\n",
    "alpha=opacity,\n",
    "color='g',\n",
    "label='F1-score')\n",
    "\n",
    "rects3 = plt.bar(index + 2*bar_width, fsr, bar_width,\n",
    "alpha=opacity,\n",
    "color='r',\n",
    "label='Recall')\n",
    "\n",
    "plt.xlabel('Data Selection')\n",
    "plt.ylabel('Accuracy')\n",
    "plt.title('Accuracy Comparison')\n",
    "plt.xticks(index + bar_width,  ('Tree','Forest','SVM',\"SGD\",'KNN','Naive Bayes',\"NN\",\"XgBoost\"))\n",
    "plt.legend()\n",
    "plt.figure(figsize=(21,14))\n",
    "plt.show()"
   ]
  },
  {
   "cell_type": "code",
   "execution_count": 146,
   "metadata": {},
   "outputs": [
    {
     "data": {
      "image/png": "[encoded data removed]",
      "text/plain": [
       "<Figure size 1512x1008 with 1 Axes>"
      ]
     },
     "metadata": {
      "needs_background": "light"
     },
     "output_type": "display_data"
    },
    {
     "data": {
      "text/plain": [
       "<Figure size 1512x1008 with 0 Axes>"
      ]
     },
     "metadata": {},
     "output_type": "display_data"
    }
   ],
   "source": [
    "pclist = [pc1,pc2,pc3,pc4,pc5,pc6,pc7] #list of dictionaries containing relevant information\n",
    "fslist = [fs1,fs2,fs3,fs4,fs5,fs6,fs7]\n",
    "\n",
    "pcpres = [item['functional needs repair']['precision'] for item in pclist]\n",
    "pcf = [item['functional needs repair']['f1-score'] for item in pclist]\n",
    "\n",
    "\n",
    "n_groups = 7\n",
    "\n",
    "\n",
    "fsf = [item['functional needs repair']['f1-score'] for item in fslist]\n",
    "pcf = [item['functional needs repair']['f1-score'] for item in pclist]\n",
    "\n",
    "# create plot\n",
    "fig, ax = plt.subplots(figsize=(21,14))\n",
    "index = np.arange(n_groups)\n",
    "bar_width = 0.25\n",
    "opacity = 0.8\n",
    "\n",
    "\n",
    "rects2 = plt.bar(index, fsf, bar_width,\n",
    "alpha=opacity,\n",
    "color='g',\n",
    "label='FS')\n",
    "\n",
    "rects3 = plt.bar(index + bar_width, pcf, bar_width,\n",
    "alpha=opacity,\n",
    "color='r',\n",
    "label='PC')\n",
    "\n",
    "plt.xlabel('Data Selection')\n",
    "plt.ylabel('Accuracy')\n",
    "plt.title('F1-Score Comparison')\n",
    "plt.xticks(index + bar_width,  ('Tree','Forest','SVM',\"SGD\",'KNN','Naive Bayes',\"NN\",\"XgBoost\"))\n",
    "plt.legend()\n",
    "plt.figure(figsize=(21,14))\n",
    "plt.show()"
   ]
  },
  {
   "cell_type": "markdown",
   "metadata": {},
   "source": [
    "# Optimizing the Random Forest"
   ]
  },
  {
   "cell_type": "code",
   "execution_count": null,
   "metadata": {
    "collapsed": true
   },
   "outputs": [],
   "source": [
    "param_grid = { \n",
    "    'n_estimators': [300, 500],\n",
    "    'max_features': ['auto', 'sqrt', 'log2'],\n",
    "    'max_depth' : [5,10,30,50],\n",
    "    'criterion' :['gini', 'entropy']\n",
    "}"
   ]
  },
  {
   "cell_type": "code",
   "execution_count": null,
   "metadata": {
    "collapsed": true
   },
   "outputs": [],
   "source": [
    "gridRF.best_params_"
   ]
  },
  {
   "cell_type": "code",
   "execution_count": null,
   "metadata": {
    "collapsed": true
   },
   "outputs": [],
   "source": [
    "gridRF = GridSearchCV(estimator=RandomForestClassifier(), param_grid=param_grid, cv= 5)\n",
    "gridRF.fit(xtrain, ytrain)"
   ]
  },
  {
   "cell_type": "code",
   "execution_count": null,
   "metadata": {
    "collapsed": true
   },
   "outputs": [],
   "source": [
    "rf1 = RandomForestClassifier(max_depth=30, criterion = 'gini', max_features='sqrt', n_estimators=500).fit(xtrain,ytrain)\n",
    "predrf1 = rf1.predict(xvalid)"
   ]
  },
  {
   "cell_type": "code",
   "execution_count": null,
   "metadata": {
    "collapsed": true
   },
   "outputs": [],
   "source": [
    "print('Training accuracy: ', accuracy_score(ytrain, rf1.predict(xtrain)))\n",
    "print('Validation accuracy: ', accuracy_score(yvalid, predrf1))"
   ]
  },
  {
   "cell_type": "code",
   "execution_count": null,
   "metadata": {
    "collapsed": true
   },
   "outputs": [],
   "source": [
    "rf2 = RandomForestClassifier(max_depth=30, criterion = 'gini', max_features='sqrt', n_estimators=700).fit(xtrain,ytrain)\n",
    "predrf2 = rf2.predict(xvalid)\n",
    "print('Training accuracy: ', accuracy_score(ytrain, rf2.predict(xtrain)))\n",
    "print('Validation accuracy: ', accuracy_score(yvalid, predrf2))\n"
   ]
  },
  {
   "cell_type": "code",
   "execution_count": 43,
   "metadata": {},
   "outputs": [
    {
     "name": "stdout",
     "output_type": "stream",
     "text": [
      "Training accuracy:  0.926473063973064\n",
      "Validation accuracy:  0.8078282828282828\n"
     ]
    }
   ],
   "source": [
    "rf3 = RandomForestClassifier(n_estimators=300, \n",
    "                                min_samples_split=8,\n",
    "                                max_features='sqrt',\n",
    "                                max_depth=95)\n",
    "rf3.fit(xtrain,ytrain)\n",
    "trainrf3 = rf3.predict(xtrain)\n",
    "predrf3 = rf3.predict(xvalid)\n",
    "print('Training accuracy: ', accuracy_score(ytrain, trainrf3))\n",
    "print('Validation accuracy: ', accuracy_score(yvalid, predrf3))"
   ]
  },
  {
   "cell_type": "markdown",
   "metadata": {},
   "source": [
    "# XG Boost parameter tuning"
   ]
  },
  {
   "cell_type": "code",
   "execution_count": null,
   "metadata": {
    "collapsed": true
   },
   "outputs": [],
   "source": [
    "xtrain, xvalid = xtrain_FS, xvalid_FS"
   ]
  },
  {
   "cell_type": "code",
   "execution_count": null,
   "metadata": {
    "collapsed": true
   },
   "outputs": [],
   "source": [
    "param_test1 = {\n",
    " 'max_depth':range(3,10,3),\n",
    " 'min_child_weight':range(1,6,2)\n",
    "}\n",
    "gsearch1 = GridSearchCV(estimator = XGBClassifier( learning_rate =0.1, n_estimators=140, max_depth=5,\n",
    " min_child_weight=1, gamma=0, subsample=0.8, colsample_bytree=0.8,\n",
    " objective= 'multi:softmax', nthread=4, scale_pos_weight=1, seed=27), \n",
    " param_grid = param_test1, scoring='roc_auc',n_jobs=4,iid=False, cv=5)\n",
    "\n",
    "gsearch1.fit(xtrain, ytrain.values.ravel())\n",
    "gsearch1.grid_scores_, gsearch1.best_params_, gsearch1.best_score_"
   ]
  },
  {
   "cell_type": "code",
   "execution_count": null,
   "metadata": {
    "collapsed": true
   },
   "outputs": [],
   "source": [
    "rf1 = RandomForestClassifier(max_depth=30, criterion = 'gini', max_features='sqrt', n_estimators=500).fit(xtrain,ytrain)\n",
    "predrf1 = rf1.predict(xvalid)"
   ]
  },
  {
   "cell_type": "code",
   "execution_count": null,
   "metadata": {
    "collapsed": true
   },
   "outputs": [],
   "source": [
    "print('Training accuracy: ', accuracy_score(ytrain, rf1.predict(xtrain)))\n",
    "print('Validation accuracy: ', accuracy_score(yvalid, predrf1))"
   ]
  },
  {
   "cell_type": "code",
   "execution_count": null,
   "metadata": {
    "collapsed": true
   },
   "outputs": [],
   "source": [
    "rf2 = RandomForestClassifier(max_depth=30, criterion = 'gini', max_features='sqrt', n_estimators=700).fit(xtrain,ytrain)\n",
    "predrf2 = rf2.predict(xvalid)\n",
    "print('Training accuracy: ', accuracy_score(ytrain, rf2.predict(xtrain)))\n",
    "print('Validation accuracy: ', accuracy_score(yvalid, predrf2))\n"
   ]
  },
  {
   "cell_type": "code",
   "execution_count": null,
   "metadata": {
    "collapsed": true
   },
   "outputs": [],
   "source": [
    "rf3 = RandomForestClassifier(n_estimators=300, \n",
    "                                min_samples_split=8,\n",
    "                                max_features='sqrt',\n",
    "                                max_depth=95)\n",
    "rf3.fit(xtrain,ytrain)\n",
    "trainrf3 = rf3.predict(xtrain)\n",
    "predrf3 = rf3.predict(xvalid)\n",
    "print('Training accuracy: ', accuracy_score(ytrain, trainrf3))\n",
    "print('Validation accuracy: ', accuracy_score(yvalid, predrf3))"
   ]
  },
  {
   "cell_type": "markdown",
   "metadata": {},
   "source": [
    "# Stacking our best two models\n",
    "\n",
    "TODO: code own stacker thing\n",
    "plot correlation of two models (more uncorrelated is better askip)"
   ]
  },
  {
   "cell_type": "code",
   "execution_count": null,
   "metadata": {
    "collapsed": true
   },
   "outputs": [],
   "source": [
    "stacker = LogisticRegression()\n",
    "twotrain = pd.concat([pd.Series(trainrf3),pd.Series(trainxgb)], axis = 1)\n",
    "twopred = pd.concat([pd.Series(predrf3),pd.Series(predxgb)], axis = 1)\n",
    "\n",
    "stacker.fit(twotrain, ytrain)"
   ]
  },
  {
   "cell_type": "code",
   "execution_count": null,
   "metadata": {
    "collapsed": true
   },
   "outputs": [],
   "source": [
    "stackerpred = stacker.predict(twopred)"
   ]
  },
  {
   "cell_type": "code",
   "execution_count": null,
   "metadata": {
    "collapsed": true
   },
   "outputs": [],
   "source": [
    "print('Training accuracy: ', accuracy_score(ytrain, stacker.predict(twotrain)))\n",
    "print('Validation accuracy: ', accuracy_score(yvalid, stackerpred))"
   ]
  },
  {
   "cell_type": "code",
   "execution_count": null,
   "metadata": {
    "collapsed": true
   },
   "outputs": [],
   "source": [
    "cm = confusion_matrix(predrf3,yvalid)"
   ]
  },
  {
   "cell_type": "code",
   "execution_count": null,
   "metadata": {
    "collapsed": true
   },
   "outputs": [],
   "source": [
    "plt.matshow(cm)\n",
    "plt.title('Confusion matrix')\n",
    "plt.colorbar()\n",
    "plt.ylabel('True label')\n",
    "plt.xlabel('Predicted label')\n",
    "plt.show()"
   ]
  },
  {
   "cell_type": "code",
   "execution_count": null,
   "metadata": {
    "collapsed": true
   },
   "outputs": [],
   "source": [
    "print(cm)"
   ]
  },
  {
   "cell_type": "code",
   "execution_count": null,
   "metadata": {
    "collapsed": true
   },
   "outputs": [],
   "source": [
    "cm2 = confusion_matrix(predxgb,yvalid)"
   ]
  },
  {
   "cell_type": "code",
   "execution_count": null,
   "metadata": {
    "collapsed": true
   },
   "outputs": [],
   "source": [
    "print(cm2)"
   ]
  },
  {
   "cell_type": "code",
   "execution_count": null,
   "metadata": {
    "collapsed": true
   },
   "outputs": [],
   "source": [
    "twotrain.corr()"
   ]
  },
  {
   "cell_type": "code",
   "execution_count": null,
   "metadata": {
    "collapsed": true
   },
   "outputs": [],
   "source": [
    "twopred.corr()"
   ]
  },
  {
   "cell_type": "markdown",
   "metadata": {
    "collapsed": true
   },
   "source": [
    "## Improved Accuracy Measure"
   ]
  },
  {
   "cell_type": "code",
   "execution_count": 68,
   "metadata": {
    "scrolled": true
   },
   "outputs": [
    {
     "name": "stdout",
     "output_type": "stream",
     "text": [
      "                         precision    recall  f1-score   support\n",
      "\n",
      "             functional      0.795     0.901     0.845      6400\n",
      "         non functional      0.849     0.770     0.808      4657\n",
      "functional needs repair      0.604     0.300     0.401       823\n",
      "\n",
      "               accuracy                          0.808     11880\n",
      "              macro avg      0.749     0.657     0.684     11880\n",
      "           weighted avg      0.803     0.808     0.799     11880\n",
      "\n"
     ]
    }
   ],
   "source": [
    "att = metrics.classification_report(yvalid, predrf3, labels=[0,1,2], target_names=['functional','non functional', 'functional needs repair'], sample_weight=None, digits=3, output_dict=False)\n",
    "\n",
    "\n",
    "print(att)"
   ]
  },
  {
   "cell_type": "code",
   "execution_count": null,
   "metadata": {},
   "outputs": [],
   "source": []
  }
 ],
 "metadata": {
  "kernelspec": {
   "display_name": "Python 3",
   "language": "python",
   "name": "python3"
  },
  "language_info": {
   "codemirror_mode": {
    "name": "ipython",
    "version": 3
   },
   "file_extension": ".py",
   "mimetype": "text/x-python",
   "name": "python",
   "nbconvert_exporter": "python",
   "pygments_lexer": "ipython3",
   "version": "3.7.3"
  },
  "toc": {
   "base_numbering": 1,
   "nav_menu": {},
   "number_sections": true,
   "sideBar": true,
   "skip_h1_title": false,
   "title_cell": "Table of Contents",
   "title_sidebar": "Contents",
   "toc_cell": false,
   "toc_position": {},
   "toc_section_display": true,
   "toc_window_display": false
  }
 },
 "nbformat": 4,
 "nbformat_minor": 2
}
